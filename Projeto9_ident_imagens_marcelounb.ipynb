{
  "nbformat": 4,
  "nbformat_minor": 0,
  "metadata": {
    "colab": {
      "name": "Projeto9_ident_imagens_marcelounb.ipynb",
      "provenance": [],
      "authorship_tag": "ABX9TyMUDNE6Icj8R30M4Z8O7Z78",
      "include_colab_link": true
    },
    "kernelspec": {
      "name": "python3",
      "display_name": "Python 3"
    }
  },
  "cells": [
    {
      "cell_type": "markdown",
      "metadata": {
        "id": "view-in-github",
        "colab_type": "text"
      },
      "source": [
        "<a href=\"https://colab.research.google.com/github/marcelounb/DeepLearning/blob/master/Projeto9_ident_imagens_marcelounb.ipynb\" target=\"_parent\"><img src=\"https://colab.research.google.com/assets/colab-badge.svg\" alt=\"Open In Colab\"/></a>"
      ]
    },
    {
      "cell_type": "code",
      "metadata": {
        "id": "lMbeCEShrIgz",
        "colab_type": "code",
        "colab": {
          "base_uri": "https://localhost:8080/",
          "height": 50
        },
        "outputId": "a9f22b85-aa32-4e4c-ce34-9e021995b959"
      },
      "source": [
        "%tensorflow_version 2.x\n",
        "import matplotlib.pyplot as plt\n",
        "import numpy as np\n",
        "import os\n",
        "import PIL\n",
        "from tensorflow.keras import layers\n",
        "import tensorflow as tf\n",
        "import pandas as pd\n",
        "import seaborn as sns\n",
        "import pickle\n",
        "import zipfile\n",
        "tf.__version__"
      ],
      "execution_count": 1,
      "outputs": [
        {
          "output_type": "stream",
          "text": [
            "TensorFlow 2.x selected.\n"
          ],
          "name": "stdout"
        },
        {
          "output_type": "execute_result",
          "data": {
            "text/plain": [
              "'2.1.0'"
            ]
          },
          "metadata": {
            "tags": []
          },
          "execution_count": 1
        }
      ]
    },
    {
      "cell_type": "code",
      "metadata": {
        "id": "uh_VI26cuqrZ",
        "colab_type": "code",
        "colab": {
          "base_uri": "https://localhost:8080/",
          "height": 50
        },
        "outputId": "862a6858-33e9-4bfd-f344-a4ee4455672f"
      },
      "source": [
        "(X_train, y_train) , (X_test, y_test) = tf.keras.datasets.cifar10.load_data()"
      ],
      "execution_count": 5,
      "outputs": [
        {
          "output_type": "stream",
          "text": [
            "Downloading data from https://www.cs.toronto.edu/~kriz/cifar-10-python.tar.gz\n",
            "170500096/170498071 [==============================] - 2s 0us/step\n"
          ],
          "name": "stdout"
        }
      ]
    },
    {
      "cell_type": "code",
      "metadata": {
        "id": "eXDTTlrGvFJw",
        "colab_type": "code",
        "colab": {
          "base_uri": "https://localhost:8080/",
          "height": 34
        },
        "outputId": "de94a3b6-d3e1-4530-da6d-707c9521c48f"
      },
      "source": [
        "X_train.shape"
      ],
      "execution_count": 6,
      "outputs": [
        {
          "output_type": "execute_result",
          "data": {
            "text/plain": [
              "(50000, 32, 32, 3)"
            ]
          },
          "metadata": {
            "tags": []
          },
          "execution_count": 6
        }
      ]
    },
    {
      "cell_type": "code",
      "metadata": {
        "id": "mwMp2QmWy_Jk",
        "colab_type": "code",
        "colab": {
          "base_uri": "https://localhost:8080/",
          "height": 34
        },
        "outputId": "041f4023-2f5d-496f-d271-08fd7728e581"
      },
      "source": [
        "y_train.shape"
      ],
      "execution_count": 7,
      "outputs": [
        {
          "output_type": "execute_result",
          "data": {
            "text/plain": [
              "(50000, 1)"
            ]
          },
          "metadata": {
            "tags": []
          },
          "execution_count": 7
        }
      ]
    },
    {
      "cell_type": "code",
      "metadata": {
        "id": "Vehk4xD1zBLd",
        "colab_type": "code",
        "colab": {
          "base_uri": "https://localhost:8080/",
          "height": 34
        },
        "outputId": "ceaaee48-f3dd-4009-9de4-4d3a29354808"
      },
      "source": [
        "X_test.shape"
      ],
      "execution_count": 8,
      "outputs": [
        {
          "output_type": "execute_result",
          "data": {
            "text/plain": [
              "(10000, 32, 32, 3)"
            ]
          },
          "metadata": {
            "tags": []
          },
          "execution_count": 8
        }
      ]
    },
    {
      "cell_type": "code",
      "metadata": {
        "id": "72oqGUdPzCqQ",
        "colab_type": "code",
        "colab": {
          "base_uri": "https://localhost:8080/",
          "height": 34
        },
        "outputId": "7a5db64b-fc09-4ddd-bb2d-9be5a62e1084"
      },
      "source": [
        "y_test.shape"
      ],
      "execution_count": 9,
      "outputs": [
        {
          "output_type": "execute_result",
          "data": {
            "text/plain": [
              "(10000, 1)"
            ]
          },
          "metadata": {
            "tags": []
          },
          "execution_count": 9
        }
      ]
    },
    {
      "cell_type": "code",
      "metadata": {
        "id": "isRD5fPwzEII",
        "colab_type": "code",
        "colab": {
          "base_uri": "https://localhost:8080/",
          "height": 554
        },
        "outputId": "0ae112d7-401d-4a44-e9b5-ecdc7ab219d7"
      },
      "source": [
        "X_train[0][0]  # Aqui as imagens estao divididas em RGB pixel a pixel 32 x 32 x 3(RGB)"
      ],
      "execution_count": 15,
      "outputs": [
        {
          "output_type": "execute_result",
          "data": {
            "text/plain": [
              "array([[ 59,  62,  63],\n",
              "       [ 43,  46,  45],\n",
              "       [ 50,  48,  43],\n",
              "       [ 68,  54,  42],\n",
              "       [ 98,  73,  52],\n",
              "       [119,  91,  63],\n",
              "       [139, 107,  75],\n",
              "       [145, 110,  80],\n",
              "       [149, 117,  89],\n",
              "       [149, 120,  93],\n",
              "       [131, 103,  77],\n",
              "       [125,  99,  76],\n",
              "       [142, 115,  91],\n",
              "       [144, 112,  86],\n",
              "       [137, 105,  79],\n",
              "       [129,  97,  71],\n",
              "       [137, 106,  79],\n",
              "       [134, 106,  76],\n",
              "       [124,  97,  64],\n",
              "       [139, 113,  78],\n",
              "       [139, 112,  75],\n",
              "       [133, 105,  69],\n",
              "       [136, 105,  74],\n",
              "       [139, 108,  77],\n",
              "       [152, 120,  89],\n",
              "       [163, 131, 100],\n",
              "       [168, 136, 108],\n",
              "       [159, 129, 102],\n",
              "       [158, 130, 104],\n",
              "       [158, 132, 108],\n",
              "       [152, 125, 102],\n",
              "       [148, 124, 103]], dtype=uint8)"
            ]
          },
          "metadata": {
            "tags": []
          },
          "execution_count": 15
        }
      ]
    },
    {
      "cell_type": "code",
      "metadata": {
        "id": "rTf9SXhczS2i",
        "colab_type": "code",
        "colab": {
          "base_uri": "https://localhost:8080/",
          "height": 283
        },
        "outputId": "21020a1e-81a6-4a2e-9ac9-b104d8bdd756"
      },
      "source": [
        "from random import randrange\n",
        "i = randrange(60000)\n",
        "plt.imshow(X_train[i])\n",
        "print(y_train[i])"
      ],
      "execution_count": 18,
      "outputs": [
        {
          "output_type": "stream",
          "text": [
            "[8]\n"
          ],
          "name": "stdout"
        },
        {
          "output_type": "display_data",
          "data": {
            "image/png": "[encoded data removed]",
            "text/plain": [
              "<Figure size 432x288 with 1 Axes>"
            ]
          },
          "metadata": {
            "tags": []
          }
        }
      ]
    },
    {
      "cell_type": "code",
      "metadata": {
        "id": "1NVlFDoizPb9",
        "colab_type": "code",
        "colab": {
          "base_uri": "https://localhost:8080/",
          "height": 916
        },
        "outputId": "9422a451-1541-4025-aa0e-de04bfb81148"
      },
      "source": [
        "W_grid = 4\n",
        "L_grid = 4\n",
        "\n",
        "fig, axes = plt.subplots(L_grid, W_grid, figsize = (15, 15))\n",
        "axes = axes.ravel()\n",
        "\n",
        "n_training = len(X_train)\n",
        "\n",
        "for i in np.arange(0, L_grid * W_grid):\n",
        "    index = np.random.randint(0, n_training)\n",
        "    axes[i].imshow(X_train[index])\n",
        "    axes[i].set_title(y_train[index])\n",
        "    axes[i].axis('off')\n",
        "    \n",
        "plt.subplots_adjust(hspace = 0.4);"
      ],
      "execution_count": 19,
      "outputs": [
        {
          "output_type": "stream",
          "text": [
            "/usr/local/lib/python3.6/dist-packages/matplotlib/text.py:1165: FutureWarning: elementwise comparison failed; returning scalar instead, but in the future will perform elementwise comparison\n",
            "  if s != self._text:\n"
          ],
          "name": "stderr"
        },
        {
          "output_type": "display_data",
          "data": {
            "image/png": "[encoded data removed]",
            "text/plain": [
              "<Figure size 1080x1080 with 16 Axes>"
            ]
          },
          "metadata": {
            "tags": []
          }
        }
      ]
    },
    {
      "cell_type": "code",
      "metadata": {
        "id": "6xh3kDgtzHhV",
        "colab_type": "code",
        "colab": {}
      },
      "source": [
        "X_train = X_train.astype('float32')\n",
        "X_test = X_test.astype('float32')  # Normalizacao"
      ],
      "execution_count": 0,
      "outputs": []
    },
    {
      "cell_type": "code",
      "metadata": {
        "id": "OUXVvjJ35BDh",
        "colab_type": "code",
        "colab": {
          "base_uri": "https://localhost:8080/",
          "height": 134
        },
        "outputId": "2d1e695d-47f4-49d0-f606-43648dba58e0"
      },
      "source": [
        "y_train  # Mostrando a qual classe cada imagem representa"
      ],
      "execution_count": 21,
      "outputs": [
        {
          "output_type": "execute_result",
          "data": {
            "text/plain": [
              "array([[6],\n",
              "       [9],\n",
              "       [9],\n",
              "       ...,\n",
              "       [9],\n",
              "       [1],\n",
              "       [1]], dtype=uint8)"
            ]
          },
          "metadata": {
            "tags": []
          },
          "execution_count": 21
        }
      ]
    },
    {
      "cell_type": "code",
      "metadata": {
        "id": "vZl9UK2M5DuR",
        "colab_type": "code",
        "colab": {}
      },
      "source": [
        "number_cat = 10  # Numero de categorias"
      ],
      "execution_count": 0,
      "outputs": []
    },
    {
      "cell_type": "code",
      "metadata": {
        "id": "0jfNEkOt57Wz",
        "colab_type": "code",
        "colab": {}
      },
      "source": [
        "y_train = tf.keras.utils.to_categorical(y_train, number_cat)"
      ],
      "execution_count": 0,
      "outputs": []
    },
    {
      "cell_type": "code",
      "metadata": {
        "id": "uL4O-hMPzF3Z",
        "colab_type": "code",
        "colab": {
          "base_uri": "https://localhost:8080/",
          "height": 134
        },
        "outputId": "5eec250c-8595-4f6e-c4b0-ff6e4369c8a8"
      },
      "source": [
        "y_train"
      ],
      "execution_count": 24,
      "outputs": [
        {
          "output_type": "execute_result",
          "data": {
            "text/plain": [
              "array([[0., 0., 0., ..., 0., 0., 0.],\n",
              "       [0., 0., 0., ..., 0., 0., 1.],\n",
              "       [0., 0., 0., ..., 0., 0., 1.],\n",
              "       ...,\n",
              "       [0., 0., 0., ..., 0., 0., 1.],\n",
              "       [0., 1., 0., ..., 0., 0., 0.],\n",
              "       [0., 1., 0., ..., 0., 0., 0.]], dtype=float32)"
            ]
          },
          "metadata": {
            "tags": []
          },
          "execution_count": 24
        }
      ]
    },
    {
      "cell_type": "code",
      "metadata": {
        "id": "IMyiLlJ45_QN",
        "colab_type": "code",
        "colab": {
          "base_uri": "https://localhost:8080/",
          "height": 34
        },
        "outputId": "5b273ef7-2538-455e-b084-d1015f357708"
      },
      "source": [
        "y_train[1]"
      ],
      "execution_count": 25,
      "outputs": [
        {
          "output_type": "execute_result",
          "data": {
            "text/plain": [
              "array([0., 0., 0., 0., 0., 0., 0., 0., 0., 1.], dtype=float32)"
            ]
          },
          "metadata": {
            "tags": []
          },
          "execution_count": 25
        }
      ]
    },
    {
      "cell_type": "code",
      "metadata": {
        "id": "weTgXmZi6v3I",
        "colab_type": "code",
        "colab": {}
      },
      "source": [
        "y_test = tf.keras.utils.to_categorical(y_test, number_cat)"
      ],
      "execution_count": 0,
      "outputs": []
    },
    {
      "cell_type": "code",
      "metadata": {
        "id": "s9rln-eZ6ycY",
        "colab_type": "code",
        "colab": {
          "base_uri": "https://localhost:8080/",
          "height": 134
        },
        "outputId": "cf5045b0-2def-4e9e-9c2c-a520d50090dd"
      },
      "source": [
        "y_test"
      ],
      "execution_count": 27,
      "outputs": [
        {
          "output_type": "execute_result",
          "data": {
            "text/plain": [
              "array([[0., 0., 0., ..., 0., 0., 0.],\n",
              "       [0., 0., 0., ..., 0., 1., 0.],\n",
              "       [0., 0., 0., ..., 0., 1., 0.],\n",
              "       ...,\n",
              "       [0., 0., 0., ..., 0., 0., 0.],\n",
              "       [0., 1., 0., ..., 0., 0., 0.],\n",
              "       [0., 0., 0., ..., 1., 0., 0.]], dtype=float32)"
            ]
          },
          "metadata": {
            "tags": []
          },
          "execution_count": 27
        }
      ]
    },
    {
      "cell_type": "code",
      "metadata": {
        "id": "nHyNEAR960Qc",
        "colab_type": "code",
        "colab": {}
      },
      "source": [
        "X_train = X_train/255\n",
        "X_test = X_test/255  # Normalizando"
      ],
      "execution_count": 0,
      "outputs": []
    },
    {
      "cell_type": "code",
      "metadata": {
        "id": "GY3peMcR63-z",
        "colab_type": "code",
        "colab": {
          "base_uri": "https://localhost:8080/",
          "height": 1000
        },
        "outputId": "a4319abb-5267-4c41-dc29-b440c4cb4f93"
      },
      "source": [
        "X_train"
      ],
      "execution_count": 29,
      "outputs": [
        {
          "output_type": "execute_result",
          "data": {
            "text/plain": [
              "array([[[[0.23137255, 0.24313726, 0.24705882],\n",
              "         [0.16862746, 0.18039216, 0.1764706 ],\n",
              "         [0.19607843, 0.1882353 , 0.16862746],\n",
              "         ...,\n",
              "         [0.61960787, 0.5176471 , 0.42352942],\n",
              "         [0.59607846, 0.49019608, 0.4       ],\n",
              "         [0.5803922 , 0.4862745 , 0.40392157]],\n",
              "\n",
              "        [[0.0627451 , 0.07843138, 0.07843138],\n",
              "         [0.        , 0.        , 0.        ],\n",
              "         [0.07058824, 0.03137255, 0.        ],\n",
              "         ...,\n",
              "         [0.48235294, 0.34509805, 0.21568628],\n",
              "         [0.46666667, 0.3254902 , 0.19607843],\n",
              "         [0.47843137, 0.34117648, 0.22352941]],\n",
              "\n",
              "        [[0.09803922, 0.09411765, 0.08235294],\n",
              "         [0.0627451 , 0.02745098, 0.        ],\n",
              "         [0.19215687, 0.10588235, 0.03137255],\n",
              "         ...,\n",
              "         [0.4627451 , 0.32941177, 0.19607843],\n",
              "         [0.47058824, 0.32941177, 0.19607843],\n",
              "         [0.42745098, 0.28627452, 0.16470589]],\n",
              "\n",
              "        ...,\n",
              "\n",
              "        [[0.8156863 , 0.6666667 , 0.3764706 ],\n",
              "         [0.7882353 , 0.6       , 0.13333334],\n",
              "         [0.7764706 , 0.6313726 , 0.10196079],\n",
              "         ...,\n",
              "         [0.627451  , 0.52156866, 0.27450982],\n",
              "         [0.21960784, 0.12156863, 0.02745098],\n",
              "         [0.20784314, 0.13333334, 0.07843138]],\n",
              "\n",
              "        [[0.7058824 , 0.54509807, 0.3764706 ],\n",
              "         [0.6784314 , 0.48235294, 0.16470589],\n",
              "         [0.7294118 , 0.5647059 , 0.11764706],\n",
              "         ...,\n",
              "         [0.72156864, 0.5803922 , 0.36862746],\n",
              "         [0.38039216, 0.24313726, 0.13333334],\n",
              "         [0.3254902 , 0.20784314, 0.13333334]],\n",
              "\n",
              "        [[0.69411767, 0.5647059 , 0.45490196],\n",
              "         [0.65882355, 0.5058824 , 0.36862746],\n",
              "         [0.7019608 , 0.5568628 , 0.34117648],\n",
              "         ...,\n",
              "         [0.84705883, 0.72156864, 0.54901963],\n",
              "         [0.5921569 , 0.4627451 , 0.32941177],\n",
              "         [0.48235294, 0.36078432, 0.28235295]]],\n",
              "\n",
              "\n",
              "       [[[0.6039216 , 0.69411767, 0.73333335],\n",
              "         [0.49411765, 0.5372549 , 0.53333336],\n",
              "         [0.4117647 , 0.40784314, 0.37254903],\n",
              "         ...,\n",
              "         [0.35686275, 0.37254903, 0.2784314 ],\n",
              "         [0.34117648, 0.3529412 , 0.2784314 ],\n",
              "         [0.30980393, 0.31764707, 0.27450982]],\n",
              "\n",
              "        [[0.54901963, 0.627451  , 0.6627451 ],\n",
              "         [0.5686275 , 0.6       , 0.6039216 ],\n",
              "         [0.49019608, 0.49019608, 0.4627451 ],\n",
              "         ...,\n",
              "         [0.3764706 , 0.3882353 , 0.30588236],\n",
              "         [0.3019608 , 0.3137255 , 0.24313726],\n",
              "         [0.2784314 , 0.28627452, 0.23921569]],\n",
              "\n",
              "        [[0.54901963, 0.60784316, 0.6431373 ],\n",
              "         [0.54509807, 0.57254905, 0.58431375],\n",
              "         [0.4509804 , 0.4509804 , 0.4392157 ],\n",
              "         ...,\n",
              "         [0.30980393, 0.32156864, 0.2509804 ],\n",
              "         [0.26666668, 0.27450982, 0.21568628],\n",
              "         [0.2627451 , 0.27058825, 0.21568628]],\n",
              "\n",
              "        ...,\n",
              "\n",
              "        [[0.6862745 , 0.654902  , 0.6509804 ],\n",
              "         [0.6117647 , 0.6039216 , 0.627451  ],\n",
              "         [0.6039216 , 0.627451  , 0.6666667 ],\n",
              "         ...,\n",
              "         [0.16470589, 0.13333334, 0.14117648],\n",
              "         [0.23921569, 0.20784314, 0.22352941],\n",
              "         [0.3647059 , 0.3254902 , 0.35686275]],\n",
              "\n",
              "        [[0.64705884, 0.6039216 , 0.5019608 ],\n",
              "         [0.6117647 , 0.59607846, 0.50980395],\n",
              "         [0.62352943, 0.6313726 , 0.5568628 ],\n",
              "         ...,\n",
              "         [0.40392157, 0.3647059 , 0.3764706 ],\n",
              "         [0.48235294, 0.44705883, 0.47058824],\n",
              "         [0.5137255 , 0.4745098 , 0.5137255 ]],\n",
              "\n",
              "        [[0.6392157 , 0.5803922 , 0.47058824],\n",
              "         [0.61960787, 0.5803922 , 0.47843137],\n",
              "         [0.6392157 , 0.6117647 , 0.52156866],\n",
              "         ...,\n",
              "         [0.56078434, 0.52156866, 0.54509807],\n",
              "         [0.56078434, 0.5254902 , 0.5568628 ],\n",
              "         [0.56078434, 0.52156866, 0.5647059 ]]],\n",
              "\n",
              "\n",
              "       [[[1.        , 1.        , 1.        ],\n",
              "         [0.99215686, 0.99215686, 0.99215686],\n",
              "         [0.99215686, 0.99215686, 0.99215686],\n",
              "         ...,\n",
              "         [0.99215686, 0.99215686, 0.99215686],\n",
              "         [0.99215686, 0.99215686, 0.99215686],\n",
              "         [0.99215686, 0.99215686, 0.99215686]],\n",
              "\n",
              "        [[1.        , 1.        , 1.        ],\n",
              "         [1.        , 1.        , 1.        ],\n",
              "         [1.        , 1.        , 1.        ],\n",
              "         ...,\n",
              "         [1.        , 1.        , 1.        ],\n",
              "         [1.        , 1.        , 1.        ],\n",
              "         [1.        , 1.        , 1.        ]],\n",
              "\n",
              "        [[1.        , 1.        , 1.        ],\n",
              "         [0.99607843, 0.99607843, 0.99607843],\n",
              "         [0.99607843, 0.99607843, 0.99607843],\n",
              "         ...,\n",
              "         [0.99607843, 0.99607843, 0.99607843],\n",
              "         [0.99607843, 0.99607843, 0.99607843],\n",
              "         [0.99607843, 0.99607843, 0.99607843]],\n",
              "\n",
              "        ...,\n",
              "\n",
              "        [[0.44313726, 0.47058824, 0.4392157 ],\n",
              "         [0.43529412, 0.4627451 , 0.43529412],\n",
              "         [0.4117647 , 0.4392157 , 0.41568628],\n",
              "         ...,\n",
              "         [0.28235295, 0.31764707, 0.3137255 ],\n",
              "         [0.28235295, 0.3137255 , 0.30980393],\n",
              "         [0.28235295, 0.3137255 , 0.30980393]],\n",
              "\n",
              "        [[0.43529412, 0.4627451 , 0.43137255],\n",
              "         [0.40784314, 0.43529412, 0.40784314],\n",
              "         [0.3882353 , 0.41568628, 0.38431373],\n",
              "         ...,\n",
              "         [0.26666668, 0.29411766, 0.28627452],\n",
              "         [0.27450982, 0.29803923, 0.29411766],\n",
              "         [0.30588236, 0.32941177, 0.32156864]],\n",
              "\n",
              "        [[0.41568628, 0.44313726, 0.4117647 ],\n",
              "         [0.3882353 , 0.41568628, 0.38431373],\n",
              "         [0.37254903, 0.4       , 0.36862746],\n",
              "         ...,\n",
              "         [0.30588236, 0.33333334, 0.3254902 ],\n",
              "         [0.30980393, 0.33333334, 0.3254902 ],\n",
              "         [0.3137255 , 0.3372549 , 0.32941177]]],\n",
              "\n",
              "\n",
              "       ...,\n",
              "\n",
              "\n",
              "       [[[0.13725491, 0.69803923, 0.92156863],\n",
              "         [0.15686275, 0.6901961 , 0.9372549 ],\n",
              "         [0.16470589, 0.6901961 , 0.94509804],\n",
              "         ...,\n",
              "         [0.3882353 , 0.69411767, 0.85882354],\n",
              "         [0.30980393, 0.5764706 , 0.77254903],\n",
              "         [0.34901962, 0.5803922 , 0.7411765 ]],\n",
              "\n",
              "        [[0.22352941, 0.7137255 , 0.91764706],\n",
              "         [0.17254902, 0.72156864, 0.98039216],\n",
              "         [0.19607843, 0.7176471 , 0.9411765 ],\n",
              "         ...,\n",
              "         [0.6117647 , 0.7137255 , 0.78431374],\n",
              "         [0.5529412 , 0.69411767, 0.80784315],\n",
              "         [0.45490196, 0.58431375, 0.6862745 ]],\n",
              "\n",
              "        [[0.38431373, 0.77254903, 0.92941177],\n",
              "         [0.2509804 , 0.7411765 , 0.9882353 ],\n",
              "         [0.27058825, 0.7529412 , 0.9607843 ],\n",
              "         ...,\n",
              "         [0.7372549 , 0.7647059 , 0.80784315],\n",
              "         [0.46666667, 0.5294118 , 0.5764706 ],\n",
              "         [0.23921569, 0.30980393, 0.3529412 ]],\n",
              "\n",
              "        ...,\n",
              "\n",
              "        [[0.28627452, 0.30980393, 0.3019608 ],\n",
              "         [0.20784314, 0.24705882, 0.26666668],\n",
              "         [0.21176471, 0.26666668, 0.3137255 ],\n",
              "         ...,\n",
              "         [0.06666667, 0.15686275, 0.2509804 ],\n",
              "         [0.08235294, 0.14117648, 0.2       ],\n",
              "         [0.12941177, 0.1882353 , 0.19215687]],\n",
              "\n",
              "        [[0.23921569, 0.26666668, 0.29411766],\n",
              "         [0.21568628, 0.27450982, 0.3372549 ],\n",
              "         [0.22352941, 0.30980393, 0.40392157],\n",
              "         ...,\n",
              "         [0.09411765, 0.1882353 , 0.28235295],\n",
              "         [0.06666667, 0.13725491, 0.20784314],\n",
              "         [0.02745098, 0.09019608, 0.1254902 ]],\n",
              "\n",
              "        [[0.17254902, 0.21960784, 0.28627452],\n",
              "         [0.18039216, 0.25882354, 0.34509805],\n",
              "         [0.19215687, 0.3019608 , 0.4117647 ],\n",
              "         ...,\n",
              "         [0.10588235, 0.20392157, 0.3019608 ],\n",
              "         [0.08235294, 0.16862746, 0.25882354],\n",
              "         [0.04705882, 0.12156863, 0.19607843]]],\n",
              "\n",
              "\n",
              "       [[[0.7411765 , 0.827451  , 0.9411765 ],\n",
              "         [0.7294118 , 0.8156863 , 0.9254902 ],\n",
              "         [0.7254902 , 0.8117647 , 0.92156863],\n",
              "         ...,\n",
              "         [0.6862745 , 0.7647059 , 0.8784314 ],\n",
              "         [0.6745098 , 0.7607843 , 0.87058824],\n",
              "         [0.6627451 , 0.7607843 , 0.8627451 ]],\n",
              "\n",
              "        [[0.7607843 , 0.8235294 , 0.9372549 ],\n",
              "         [0.7490196 , 0.8117647 , 0.9254902 ],\n",
              "         [0.74509805, 0.80784315, 0.92156863],\n",
              "         ...,\n",
              "         [0.6784314 , 0.7529412 , 0.8627451 ],\n",
              "         [0.67058825, 0.7490196 , 0.85490197],\n",
              "         [0.654902  , 0.74509805, 0.84705883]],\n",
              "\n",
              "        [[0.8156863 , 0.85882354, 0.95686275],\n",
              "         [0.8039216 , 0.84705883, 0.9411765 ],\n",
              "         [0.8       , 0.84313726, 0.9372549 ],\n",
              "         ...,\n",
              "         [0.6862745 , 0.7490196 , 0.8509804 ],\n",
              "         [0.6745098 , 0.74509805, 0.84705883],\n",
              "         [0.6627451 , 0.7490196 , 0.84313726]],\n",
              "\n",
              "        ...,\n",
              "\n",
              "        [[0.8117647 , 0.78039217, 0.70980394],\n",
              "         [0.79607844, 0.7647059 , 0.6862745 ],\n",
              "         [0.79607844, 0.76862746, 0.6784314 ],\n",
              "         ...,\n",
              "         [0.5294118 , 0.5176471 , 0.49803922],\n",
              "         [0.63529414, 0.61960787, 0.5882353 ],\n",
              "         [0.65882355, 0.6392157 , 0.5921569 ]],\n",
              "\n",
              "        [[0.7764706 , 0.74509805, 0.6666667 ],\n",
              "         [0.7411765 , 0.70980394, 0.62352943],\n",
              "         [0.7058824 , 0.6745098 , 0.5764706 ],\n",
              "         ...,\n",
              "         [0.69803923, 0.67058825, 0.627451  ],\n",
              "         [0.6862745 , 0.6627451 , 0.6117647 ],\n",
              "         [0.6862745 , 0.6627451 , 0.6039216 ]],\n",
              "\n",
              "        [[0.7764706 , 0.7411765 , 0.6784314 ],\n",
              "         [0.7411765 , 0.70980394, 0.63529414],\n",
              "         [0.69803923, 0.6666667 , 0.58431375],\n",
              "         ...,\n",
              "         [0.7647059 , 0.72156864, 0.6627451 ],\n",
              "         [0.76862746, 0.7411765 , 0.67058825],\n",
              "         [0.7647059 , 0.74509805, 0.67058825]]],\n",
              "\n",
              "\n",
              "       [[[0.8980392 , 0.8980392 , 0.9372549 ],\n",
              "         [0.9254902 , 0.92941177, 0.96862745],\n",
              "         [0.91764706, 0.9254902 , 0.96862745],\n",
              "         ...,\n",
              "         [0.8509804 , 0.85882354, 0.9137255 ],\n",
              "         [0.8666667 , 0.8745098 , 0.91764706],\n",
              "         [0.87058824, 0.8745098 , 0.9137255 ]],\n",
              "\n",
              "        [[0.87058824, 0.8666667 , 0.8980392 ],\n",
              "         [0.9372549 , 0.9372549 , 0.9764706 ],\n",
              "         [0.9137255 , 0.91764706, 0.9647059 ],\n",
              "         ...,\n",
              "         [0.8745098 , 0.8745098 , 0.9254902 ],\n",
              "         [0.8901961 , 0.89411765, 0.93333334],\n",
              "         [0.8235294 , 0.827451  , 0.8627451 ]],\n",
              "\n",
              "        [[0.8352941 , 0.80784315, 0.827451  ],\n",
              "         [0.91764706, 0.9098039 , 0.9372549 ],\n",
              "         [0.90588236, 0.9137255 , 0.95686275],\n",
              "         ...,\n",
              "         [0.8627451 , 0.8627451 , 0.9098039 ],\n",
              "         [0.8627451 , 0.85882354, 0.9098039 ],\n",
              "         [0.7921569 , 0.79607844, 0.84313726]],\n",
              "\n",
              "        ...,\n",
              "\n",
              "        [[0.5882353 , 0.56078434, 0.5294118 ],\n",
              "         [0.54901963, 0.5294118 , 0.49803922],\n",
              "         [0.5176471 , 0.49803922, 0.47058824],\n",
              "         ...,\n",
              "         [0.8784314 , 0.87058824, 0.85490197],\n",
              "         [0.9019608 , 0.89411765, 0.88235295],\n",
              "         [0.94509804, 0.94509804, 0.93333334]],\n",
              "\n",
              "        [[0.5372549 , 0.5176471 , 0.49411765],\n",
              "         [0.50980395, 0.49803922, 0.47058824],\n",
              "         [0.49019608, 0.4745098 , 0.4509804 ],\n",
              "         ...,\n",
              "         [0.70980394, 0.7058824 , 0.69803923],\n",
              "         [0.7921569 , 0.7882353 , 0.7764706 ],\n",
              "         [0.83137256, 0.827451  , 0.8117647 ]],\n",
              "\n",
              "        [[0.47843137, 0.46666667, 0.44705883],\n",
              "         [0.4627451 , 0.45490196, 0.43137255],\n",
              "         [0.47058824, 0.45490196, 0.43529412],\n",
              "         ...,\n",
              "         [0.7019608 , 0.69411767, 0.6784314 ],\n",
              "         [0.6431373 , 0.6431373 , 0.63529414],\n",
              "         [0.6392157 , 0.6392157 , 0.6313726 ]]]], dtype=float32)"
            ]
          },
          "metadata": {
            "tags": []
          },
          "execution_count": 29
        }
      ]
    },
    {
      "cell_type": "code",
      "metadata": {
        "id": "z0Sj66DZ65sA",
        "colab_type": "code",
        "colab": {
          "base_uri": "https://localhost:8080/",
          "height": 34
        },
        "outputId": "9e396263-c10d-48d3-e3f1-ca984c5dbece"
      },
      "source": [
        "X_train.shape"
      ],
      "execution_count": 30,
      "outputs": [
        {
          "output_type": "execute_result",
          "data": {
            "text/plain": [
              "(50000, 32, 32, 3)"
            ]
          },
          "metadata": {
            "tags": []
          },
          "execution_count": 30
        }
      ]
    },
    {
      "cell_type": "code",
      "metadata": {
        "id": "UmBL9OlA69Vq",
        "colab_type": "code",
        "colab": {}
      },
      "source": [
        "input_shape = X_train.shape[1:]"
      ],
      "execution_count": 0,
      "outputs": []
    },
    {
      "cell_type": "code",
      "metadata": {
        "id": "SF7d2OPC6_0N",
        "colab_type": "code",
        "colab": {
          "base_uri": "https://localhost:8080/",
          "height": 34
        },
        "outputId": "fedfea03-d155-415f-b3c0-5f07432f5050"
      },
      "source": [
        "input_shape"
      ],
      "execution_count": 32,
      "outputs": [
        {
          "output_type": "execute_result",
          "data": {
            "text/plain": [
              "(32, 32, 3)"
            ]
          },
          "metadata": {
            "tags": []
          },
          "execution_count": 32
        }
      ]
    },
    {
      "cell_type": "code",
      "metadata": {
        "id": "Er0CKzWb7A3L",
        "colab_type": "code",
        "colab": {
          "base_uri": "https://localhost:8080/",
          "height": 34
        },
        "outputId": "9901f70f-0a6a-40e2-904d-e1d819820277"
      },
      "source": [
        "y_train.shape"
      ],
      "execution_count": 33,
      "outputs": [
        {
          "output_type": "execute_result",
          "data": {
            "text/plain": [
              "(50000, 10)"
            ]
          },
          "metadata": {
            "tags": []
          },
          "execution_count": 33
        }
      ]
    },
    {
      "cell_type": "markdown",
      "metadata": {
        "id": "FT6rgjXW7MLH",
        "colab_type": "text"
      },
      "source": [
        "# Etapa 5: Construção e treinamento do modelo\n"
      ]
    },
    {
      "cell_type": "code",
      "metadata": {
        "id": "nVBFWMA67DmA",
        "colab_type": "code",
        "colab": {
          "base_uri": "https://localhost:8080/",
          "height": 588
        },
        "outputId": "58e8e92f-9c6e-4df9-fbcd-32ab4c660108"
      },
      "source": [
        "cnn = tf.keras.Sequential()\n",
        "\n",
        "cnn.add(tf.keras.layers.Conv2D(32, (3,3), activation = 'relu', input_shape = (32,32,3)))\n",
        "cnn.add(tf.keras.layers.Conv2D(32, (3,3), activation = 'relu'))\n",
        "cnn.add(tf.keras.layers.MaxPooling2D(2,2))\n",
        "cnn.add(tf.keras.layers.Dropout(0.3))\n",
        "\n",
        "cnn.add(tf.keras.layers.Conv2D(64, (3,3), activation = 'relu'))\n",
        "cnn.add(tf.keras.layers.Conv2D(64, (3,3), activation = 'relu'))\n",
        "cnn.add(tf.keras.layers.MaxPooling2D(2,2))\n",
        "cnn.add(tf.keras.layers.Dropout(0.3))\n",
        "\n",
        "cnn.add(tf.keras.layers.Flatten())\n",
        "\n",
        "cnn.add(tf.keras.layers.Dense(1024, activation = 'relu'))\n",
        "cnn.add(tf.keras.layers.Dropout(0.3))\n",
        "\n",
        "cnn.add(tf.keras.layers.Dense(1024, activation = 'relu'))\n",
        "\n",
        "cnn.add(tf.keras.layers.Dense(10, activation = 'softmax'))  # Softmax para classificacao com mais de 2 classes\n",
        "cnn.summary()"
      ],
      "execution_count": 34,
      "outputs": [
        {
          "output_type": "stream",
          "text": [
            "Model: \"sequential\"\n",
            "_________________________________________________________________\n",
            "Layer (type)                 Output Shape              Param #   \n",
            "=================================================================\n",
            "conv2d (Conv2D)              (None, 30, 30, 32)        896       \n",
            "_________________________________________________________________\n",
            "conv2d_1 (Conv2D)            (None, 28, 28, 32)        9248      \n",
            "_________________________________________________________________\n",
            "max_pooling2d (MaxPooling2D) (None, 14, 14, 32)        0         \n",
            "_________________________________________________________________\n",
            "dropout (Dropout)            (None, 14, 14, 32)        0         \n",
            "_________________________________________________________________\n",
            "conv2d_2 (Conv2D)            (None, 12, 12, 64)        18496     \n",
            "_________________________________________________________________\n",
            "conv2d_3 (Conv2D)            (None, 10, 10, 64)        36928     \n",
            "_________________________________________________________________\n",
            "max_pooling2d_1 (MaxPooling2 (None, 5, 5, 64)          0         \n",
            "_________________________________________________________________\n",
            "dropout_1 (Dropout)          (None, 5, 5, 64)          0         \n",
            "_________________________________________________________________\n",
            "flatten (Flatten)            (None, 1600)              0         \n",
            "_________________________________________________________________\n",
            "dense (Dense)                (None, 1024)              1639424   \n",
            "_________________________________________________________________\n",
            "dropout_2 (Dropout)          (None, 1024)              0         \n",
            "_________________________________________________________________\n",
            "dense_1 (Dense)              (None, 1024)              1049600   \n",
            "_________________________________________________________________\n",
            "dense_2 (Dense)              (None, 10)                10250     \n",
            "=================================================================\n",
            "Total params: 2,764,842\n",
            "Trainable params: 2,764,842\n",
            "Non-trainable params: 0\n",
            "_________________________________________________________________\n"
          ],
          "name": "stdout"
        }
      ]
    },
    {
      "cell_type": "code",
      "metadata": {
        "id": "1I1rjI4h9U3H",
        "colab_type": "code",
        "colab": {}
      },
      "source": [
        "cnn.compile(optimizer = tf.keras.optimizers.RMSprop(0.0001, decay = 1e-6), # 0.0000006\n",
        "            loss ='categorical_crossentropy', metrics =['accuracy'])  # Categorical CrossEntropy porque esta no formato one hot encoder"
      ],
      "execution_count": 0,
      "outputs": []
    },
    {
      "cell_type": "code",
      "metadata": {
        "id": "0r4S2hyT9X6Z",
        "colab_type": "code",
        "colab": {
          "base_uri": "https://localhost:8080/",
          "height": 470
        },
        "outputId": "097f59c6-d550-4d22-eff3-2353b84e46e1"
      },
      "source": [
        "epochs = 100\n",
        "history = cnn.fit(X_train, y_train, batch_size = 512, epochs = epochs)"
      ],
      "execution_count": 0,
      "outputs": [
        {
          "output_type": "stream",
          "text": [
            "Train on 50000 samples\n",
            "Epoch 1/100\n",
            "50000/50000 [==============================] - 168s 3ms/sample - loss: 2.0788 - accuracy: 0.2220\n",
            "Epoch 2/100\n",
            "50000/50000 [==============================] - 166s 3ms/sample - loss: 1.8663 - accuracy: 0.3199\n",
            "Epoch 3/100\n",
            "50000/50000 [==============================] - 165s 3ms/sample - loss: 1.7511 - accuracy: 0.3631\n",
            "Epoch 4/100\n",
            "50000/50000 [==============================] - 166s 3ms/sample - loss: 1.6752 - accuracy: 0.3907\n",
            "Epoch 5/100\n",
            "50000/50000 [==============================] - 166s 3ms/sample - loss: 1.6179 - accuracy: 0.4127\n",
            "Epoch 6/100\n",
            "50000/50000 [==============================] - 166s 3ms/sample - loss: 1.5660 - accuracy: 0.4317\n",
            "Epoch 7/100\n",
            "50000/50000 [==============================] - 167s 3ms/sample - loss: 1.5237 - accuracy: 0.4488\n",
            "Epoch 8/100\n",
            "50000/50000 [==============================] - 168s 3ms/sample - loss: 1.4817 - accuracy: 0.4646\n",
            "Epoch 9/100\n",
            "50000/50000 [==============================] - 167s 3ms/sample - loss: 1.4499 - accuracy: 0.4772\n",
            "Epoch 10/100\n",
            "50000/50000 [==============================] - 167s 3ms/sample - loss: 1.4214 - accuracy: 0.4865\n",
            "Epoch 11/100\n",
            "50000/50000 [==============================] - 166s 3ms/sample - loss: 1.3910 - accuracy: 0.5004\n",
            "Epoch 12/100\n",
            "50000/50000 [==============================] - 166s 3ms/sample - loss: 1.3657 - accuracy: 0.5092\n",
            "Epoch 13/100\n",
            "29184/50000 [================>.............] - ETA: 1:09 - loss: 1.3392 - accuracy: 0.5193"
          ],
          "name": "stdout"
        }
      ]
    },
    {
      "cell_type": "markdown",
      "metadata": {
        "id": "owypYnzq9evl",
        "colab_type": "text"
      },
      "source": [
        "# Etapa 6: Avaliação do modelo"
      ]
    },
    {
      "cell_type": "code",
      "metadata": {
        "id": "4njj6BE99Z-m",
        "colab_type": "code",
        "colab": {}
      },
      "source": [
        "evaluation = cnn.evaluate(X_test, y_test)\n",
        "print('Test Accuracy: {}'.format(evaluation[1]))"
      ],
      "execution_count": 0,
      "outputs": []
    },
    {
      "cell_type": "code",
      "metadata": {
        "id": "F0LW9zr59jEG",
        "colab_type": "code",
        "colab": {}
      },
      "source": [
        "predicted_classes = cnn.predict_classes(X_test) \n",
        "predicted_classes"
      ],
      "execution_count": 0,
      "outputs": []
    },
    {
      "cell_type": "code",
      "metadata": {
        "id": "ia9FPewt9i5S",
        "colab_type": "code",
        "colab": {}
      },
      "source": [
        "y_test[1]"
      ],
      "execution_count": 0,
      "outputs": []
    },
    {
      "cell_type": "code",
      "metadata": {
        "id": "Icj3lzgv9ivi",
        "colab_type": "code",
        "colab": {}
      },
      "source": [
        "y_test = y_test.argmax(1)  # Vai retornar a previsao com indice de maior valor"
      ],
      "execution_count": 0,
      "outputs": []
    },
    {
      "cell_type": "code",
      "metadata": {
        "id": "EI4jDssX9icq",
        "colab_type": "code",
        "colab": {}
      },
      "source": [
        "y_test"
      ],
      "execution_count": 0,
      "outputs": []
    },
    {
      "cell_type": "code",
      "metadata": {
        "id": "wfsY73rL9rey",
        "colab_type": "code",
        "colab": {}
      },
      "source": [
        "L = 7\n",
        "W = 7\n",
        "fig, axes = plt.subplots(L, W, figsize = (12, 12))\n",
        "axes = axes.ravel()\n",
        "\n",
        "for i in np.arange(0, L*W):\n",
        "    axes[i].imshow(X_test[i])\n",
        "    axes[i].set_title('Prediction = {}\\n True = {}'.format(predicted_classes[i], y_test[i]))\n",
        "    axes[i].axis('off')\n",
        "\n",
        "plt.subplots_adjust(wspace = 1) "
      ],
      "execution_count": 0,
      "outputs": []
    },
    {
      "cell_type": "code",
      "metadata": {
        "id": "U5oeFnUk9rU3",
        "colab_type": "code",
        "colab": {}
      },
      "source": [
        "from sklearn.metrics import confusion_matrix\n",
        "import seaborn as sns\n",
        "\n",
        "cm = confusion_matrix(predicted_classes, y_test)\n",
        "plt.figure(figsize = (10, 10))\n",
        "sns.heatmap(cm, annot = True)"
      ],
      "execution_count": 0,
      "outputs": []
    },
    {
      "cell_type": "code",
      "metadata": {
        "id": "c36ep04u9rLj",
        "colab_type": "code",
        "colab": {}
      },
      "source": [
        "cm"
      ],
      "execution_count": 0,
      "outputs": []
    }
  ]
}