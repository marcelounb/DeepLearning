{
  "nbformat": 4,
  "nbformat_minor": 0,
  "metadata": {
    "colab": {
      "name": "Projeto1_IMC_Marcelounb.ipynb",
      "provenance": [],
      "toc_visible": true,
      "authorship_tag": "ABX9TyPipJ5MHEWEyNSihRvFZ3ph",
      "include_colab_link": true
    },
    "kernelspec": {
      "name": "python3",
      "display_name": "Python 3"
    }
  },
  "cells": [
    {
      "cell_type": "markdown",
      "metadata": {
        "id": "view-in-github",
        "colab_type": "text"
      },
      "source": [
        "<a href=\"https://colab.research.google.com/github/marcelounb/DeepLearning/blob/master/Projeto1_IMC_Marcelounb.ipynb\" target=\"_parent\"><img src=\"https://colab.research.google.com/assets/colab-badge.svg\" alt=\"Open In Colab\"/></a>"
      ]
    },
    {
      "cell_type": "code",
      "metadata": {
        "id": "mHyhVy8qlxg4",
        "colab_type": "code",
        "colab": {}
      },
      "source": [
        "%tensorflow_version 2.x\n",
        "import tensorflow as tf\n",
        "import pandas as pd\n",
        "import numpy as np\n",
        "import seaborn as sns\n",
        "import matplotlib.pyplot as plt\n"
      ],
      "execution_count": 0,
      "outputs": []
    },
    {
      "cell_type": "code",
      "metadata": {
        "id": "dQQNLjOXm8it",
        "colab_type": "code",
        "colab": {}
      },
      "source": [
        "imcs = pd.read_csv('/content/imc.csv')\n",
        "imcs.reset_index(drop=True, inplace=True)"
      ],
      "execution_count": 0,
      "outputs": []
    },
    {
      "cell_type": "code",
      "metadata": {
        "id": "xTdpYnRWnSUo",
        "colab_type": "code",
        "outputId": "20d2f4d1-44f9-463e-a0ab-9298199eb548",
        "colab": {
          "base_uri": "https://localhost:8080/",
          "height": 402
        }
      },
      "source": [
        "imcs"
      ],
      "execution_count": 147,
      "outputs": [
        {
          "output_type": "execute_result",
          "data": {
            "text/html": [
              "<div>\n",
              "<style scoped>\n",
              "    .dataframe tbody tr th:only-of-type {\n",
              "        vertical-align: middle;\n",
              "    }\n",
              "\n",
              "    .dataframe tbody tr th {\n",
              "        vertical-align: top;\n",
              "    }\n",
              "\n",
              "    .dataframe thead th {\n",
              "        text-align: right;\n",
              "    }\n",
              "</style>\n",
              "<table border=\"1\" class=\"dataframe\">\n",
              "  <thead>\n",
              "    <tr style=\"text-align: right;\">\n",
              "      <th></th>\n",
              "      <th>weight</th>\n",
              "      <th>height</th>\n",
              "      <th>imc</th>\n",
              "    </tr>\n",
              "  </thead>\n",
              "  <tbody>\n",
              "    <tr>\n",
              "      <th>0</th>\n",
              "      <td>47.65</td>\n",
              "      <td>1.50</td>\n",
              "      <td>21.18</td>\n",
              "    </tr>\n",
              "    <tr>\n",
              "      <th>1</th>\n",
              "      <td>38.99</td>\n",
              "      <td>0.57</td>\n",
              "      <td>120.01</td>\n",
              "    </tr>\n",
              "    <tr>\n",
              "      <th>2</th>\n",
              "      <td>7.70</td>\n",
              "      <td>1.17</td>\n",
              "      <td>5.62</td>\n",
              "    </tr>\n",
              "    <tr>\n",
              "      <th>3</th>\n",
              "      <td>2.28</td>\n",
              "      <td>1.20</td>\n",
              "      <td>1.58</td>\n",
              "    </tr>\n",
              "    <tr>\n",
              "      <th>4</th>\n",
              "      <td>81.54</td>\n",
              "      <td>1.06</td>\n",
              "      <td>72.57</td>\n",
              "    </tr>\n",
              "    <tr>\n",
              "      <th>...</th>\n",
              "      <td>...</td>\n",
              "      <td>...</td>\n",
              "      <td>...</td>\n",
              "    </tr>\n",
              "    <tr>\n",
              "      <th>795</th>\n",
              "      <td>89.47</td>\n",
              "      <td>1.17</td>\n",
              "      <td>65.36</td>\n",
              "    </tr>\n",
              "    <tr>\n",
              "      <th>796</th>\n",
              "      <td>64.92</td>\n",
              "      <td>0.53</td>\n",
              "      <td>231.11</td>\n",
              "    </tr>\n",
              "    <tr>\n",
              "      <th>797</th>\n",
              "      <td>4.28</td>\n",
              "      <td>0.52</td>\n",
              "      <td>15.83</td>\n",
              "    </tr>\n",
              "    <tr>\n",
              "      <th>798</th>\n",
              "      <td>29.07</td>\n",
              "      <td>0.85</td>\n",
              "      <td>40.24</td>\n",
              "    </tr>\n",
              "    <tr>\n",
              "      <th>799</th>\n",
              "      <td>10.75</td>\n",
              "      <td>0.80</td>\n",
              "      <td>16.80</td>\n",
              "    </tr>\n",
              "  </tbody>\n",
              "</table>\n",
              "<p>800 rows × 3 columns</p>\n",
              "</div>"
            ],
            "text/plain": [
              "     weight  height     imc\n",
              "0     47.65    1.50   21.18\n",
              "1     38.99    0.57  120.01\n",
              "2      7.70    1.17    5.62\n",
              "3      2.28    1.20    1.58\n",
              "4     81.54    1.06   72.57\n",
              "..      ...     ...     ...\n",
              "795   89.47    1.17   65.36\n",
              "796   64.92    0.53  231.11\n",
              "797    4.28    0.52   15.83\n",
              "798   29.07    0.85   40.24\n",
              "799   10.75    0.80   16.80\n",
              "\n",
              "[800 rows x 3 columns]"
            ]
          },
          "metadata": {
            "tags": []
          },
          "execution_count": 147
        }
      ]
    },
    {
      "cell_type": "code",
      "metadata": {
        "id": "vBEt7fqanX0B",
        "colab_type": "code",
        "outputId": "a8a94a08-5b59-45ee-efc6-57230230ba30",
        "colab": {
          "base_uri": "https://localhost:8080/",
          "height": 151
        }
      },
      "source": [
        "imcs.info()"
      ],
      "execution_count": 148,
      "outputs": [
        {
          "output_type": "stream",
          "text": [
            "<class 'pandas.core.frame.DataFrame'>\n",
            "RangeIndex: 800 entries, 0 to 799\n",
            "Data columns (total 3 columns):\n",
            "weight    800 non-null float64\n",
            "height    800 non-null float64\n",
            "imc       800 non-null float64\n",
            "dtypes: float64(3)\n",
            "memory usage: 18.9 KB\n"
          ],
          "name": "stdout"
        }
      ]
    },
    {
      "cell_type": "code",
      "metadata": {
        "id": "vxK0E56-qQUe",
        "colab_type": "code",
        "outputId": "8ec0302c-5759-4f3e-fdfc-8ffaeb8cb5fc",
        "colab": {
          "base_uri": "https://localhost:8080/",
          "height": 284
        }
      },
      "source": [
        "imcs.describe()"
      ],
      "execution_count": 149,
      "outputs": [
        {
          "output_type": "execute_result",
          "data": {
            "text/html": [
              "<div>\n",
              "<style scoped>\n",
              "    .dataframe tbody tr th:only-of-type {\n",
              "        vertical-align: middle;\n",
              "    }\n",
              "\n",
              "    .dataframe tbody tr th {\n",
              "        vertical-align: top;\n",
              "    }\n",
              "\n",
              "    .dataframe thead th {\n",
              "        text-align: right;\n",
              "    }\n",
              "</style>\n",
              "<table border=\"1\" class=\"dataframe\">\n",
              "  <thead>\n",
              "    <tr style=\"text-align: right;\">\n",
              "      <th></th>\n",
              "      <th>weight</th>\n",
              "      <th>height</th>\n",
              "      <th>imc</th>\n",
              "    </tr>\n",
              "  </thead>\n",
              "  <tbody>\n",
              "    <tr>\n",
              "      <th>count</th>\n",
              "      <td>800.00000</td>\n",
              "      <td>800.000000</td>\n",
              "      <td>800.000000</td>\n",
              "    </tr>\n",
              "    <tr>\n",
              "      <th>mean</th>\n",
              "      <td>48.40370</td>\n",
              "      <td>1.025087</td>\n",
              "      <td>61.836150</td>\n",
              "    </tr>\n",
              "    <tr>\n",
              "      <th>std</th>\n",
              "      <td>29.10054</td>\n",
              "      <td>0.286032</td>\n",
              "      <td>61.171234</td>\n",
              "    </tr>\n",
              "    <tr>\n",
              "      <th>min</th>\n",
              "      <td>0.02000</td>\n",
              "      <td>0.500000</td>\n",
              "      <td>0.020000</td>\n",
              "    </tr>\n",
              "    <tr>\n",
              "      <th>25%</th>\n",
              "      <td>22.42750</td>\n",
              "      <td>0.790000</td>\n",
              "      <td>19.220000</td>\n",
              "    </tr>\n",
              "    <tr>\n",
              "      <th>50%</th>\n",
              "      <td>48.27000</td>\n",
              "      <td>1.020000</td>\n",
              "      <td>43.345000</td>\n",
              "    </tr>\n",
              "    <tr>\n",
              "      <th>75%</th>\n",
              "      <td>73.65000</td>\n",
              "      <td>1.270000</td>\n",
              "      <td>79.625000</td>\n",
              "    </tr>\n",
              "    <tr>\n",
              "      <th>max</th>\n",
              "      <td>99.91000</td>\n",
              "      <td>1.500000</td>\n",
              "      <td>355.470000</td>\n",
              "    </tr>\n",
              "  </tbody>\n",
              "</table>\n",
              "</div>"
            ],
            "text/plain": [
              "          weight      height         imc\n",
              "count  800.00000  800.000000  800.000000\n",
              "mean    48.40370    1.025087   61.836150\n",
              "std     29.10054    0.286032   61.171234\n",
              "min      0.02000    0.500000    0.020000\n",
              "25%     22.42750    0.790000   19.220000\n",
              "50%     48.27000    1.020000   43.345000\n",
              "75%     73.65000    1.270000   79.625000\n",
              "max     99.91000    1.500000  355.470000"
            ]
          },
          "metadata": {
            "tags": []
          },
          "execution_count": 149
        }
      ]
    },
    {
      "cell_type": "code",
      "metadata": {
        "id": "Fi0s5IrxqSGt",
        "colab_type": "code",
        "outputId": "b207e4bf-0861-4d8a-c8fc-c7b42f1d92de",
        "colab": {
          "base_uri": "https://localhost:8080/",
          "height": 296
        }
      },
      "source": [
        "sns.scatterplot(imcs['weight'], imcs['imc'])"
      ],
      "execution_count": 150,
      "outputs": [
        {
          "output_type": "execute_result",
          "data": {
            "text/plain": [
              "<matplotlib.axes._subplots.AxesSubplot at 0x7f9cf07f0d30>"
            ]
          },
          "metadata": {
            "tags": []
          },
          "execution_count": 150
        },
        {
          "output_type": "display_data",
          "data": {
            "image/png": "[encoded data removed]",
            "text/plain": [
              "<Figure size 432x288 with 1 Axes>"
            ]
          },
          "metadata": {
            "tags": []
          }
        }
      ]
    },
    {
      "cell_type": "markdown",
      "metadata": {
        "id": "891kmtr3q4hx",
        "colab_type": "text"
      },
      "source": [
        "# Configuração da base de dados de treinamento"
      ]
    },
    {
      "cell_type": "code",
      "metadata": {
        "id": "sh3Qcd_1qqYw",
        "colab_type": "code",
        "colab": {}
      },
      "source": [
        "X = imcs.iloc[:, :-1].values"
      ],
      "execution_count": 0,
      "outputs": []
    },
    {
      "cell_type": "code",
      "metadata": {
        "id": "-SUrGD54TIeL",
        "colab_type": "code",
        "colab": {
          "base_uri": "https://localhost:8080/",
          "height": 134
        },
        "outputId": "8c84ed8e-b894-48b2-f61d-1f0294877a4b"
      },
      "source": [
        "X"
      ],
      "execution_count": 152,
      "outputs": [
        {
          "output_type": "execute_result",
          "data": {
            "text/plain": [
              "array([[47.65,  1.5 ],\n",
              "       [38.99,  0.57],\n",
              "       [ 7.7 ,  1.17],\n",
              "       ...,\n",
              "       [ 4.28,  0.52],\n",
              "       [29.07,  0.85],\n",
              "       [10.75,  0.8 ]])"
            ]
          },
          "metadata": {
            "tags": []
          },
          "execution_count": 152
        }
      ]
    },
    {
      "cell_type": "code",
      "metadata": {
        "id": "rHGx-E9aTJdX",
        "colab_type": "code",
        "colab": {}
      },
      "source": [
        "y = imcs.iloc[:, -1:]"
      ],
      "execution_count": 0,
      "outputs": []
    },
    {
      "cell_type": "code",
      "metadata": {
        "id": "77fduZAMTX13",
        "colab_type": "code",
        "colab": {
          "base_uri": "https://localhost:8080/",
          "height": 402
        },
        "outputId": "176beda5-2a9c-41dd-dbdd-06f7115b41d6"
      },
      "source": [
        "y"
      ],
      "execution_count": 154,
      "outputs": [
        {
          "output_type": "execute_result",
          "data": {
            "text/html": [
              "<div>\n",
              "<style scoped>\n",
              "    .dataframe tbody tr th:only-of-type {\n",
              "        vertical-align: middle;\n",
              "    }\n",
              "\n",
              "    .dataframe tbody tr th {\n",
              "        vertical-align: top;\n",
              "    }\n",
              "\n",
              "    .dataframe thead th {\n",
              "        text-align: right;\n",
              "    }\n",
              "</style>\n",
              "<table border=\"1\" class=\"dataframe\">\n",
              "  <thead>\n",
              "    <tr style=\"text-align: right;\">\n",
              "      <th></th>\n",
              "      <th>imc</th>\n",
              "    </tr>\n",
              "  </thead>\n",
              "  <tbody>\n",
              "    <tr>\n",
              "      <th>0</th>\n",
              "      <td>21.18</td>\n",
              "    </tr>\n",
              "    <tr>\n",
              "      <th>1</th>\n",
              "      <td>120.01</td>\n",
              "    </tr>\n",
              "    <tr>\n",
              "      <th>2</th>\n",
              "      <td>5.62</td>\n",
              "    </tr>\n",
              "    <tr>\n",
              "      <th>3</th>\n",
              "      <td>1.58</td>\n",
              "    </tr>\n",
              "    <tr>\n",
              "      <th>4</th>\n",
              "      <td>72.57</td>\n",
              "    </tr>\n",
              "    <tr>\n",
              "      <th>...</th>\n",
              "      <td>...</td>\n",
              "    </tr>\n",
              "    <tr>\n",
              "      <th>795</th>\n",
              "      <td>65.36</td>\n",
              "    </tr>\n",
              "    <tr>\n",
              "      <th>796</th>\n",
              "      <td>231.11</td>\n",
              "    </tr>\n",
              "    <tr>\n",
              "      <th>797</th>\n",
              "      <td>15.83</td>\n",
              "    </tr>\n",
              "    <tr>\n",
              "      <th>798</th>\n",
              "      <td>40.24</td>\n",
              "    </tr>\n",
              "    <tr>\n",
              "      <th>799</th>\n",
              "      <td>16.80</td>\n",
              "    </tr>\n",
              "  </tbody>\n",
              "</table>\n",
              "<p>800 rows × 1 columns</p>\n",
              "</div>"
            ],
            "text/plain": [
              "        imc\n",
              "0     21.18\n",
              "1    120.01\n",
              "2      5.62\n",
              "3      1.58\n",
              "4     72.57\n",
              "..      ...\n",
              "795   65.36\n",
              "796  231.11\n",
              "797   15.83\n",
              "798   40.24\n",
              "799   16.80\n",
              "\n",
              "[800 rows x 1 columns]"
            ]
          },
          "metadata": {
            "tags": []
          },
          "execution_count": 154
        }
      ]
    },
    {
      "cell_type": "code",
      "metadata": {
        "id": "DUbP4enrTYqL",
        "colab_type": "code",
        "colab": {
          "base_uri": "https://localhost:8080/",
          "height": 34
        },
        "outputId": "6d751d67-eb1b-4dae-b3a0-435becf1a777"
      },
      "source": [
        "X.shape"
      ],
      "execution_count": 155,
      "outputs": [
        {
          "output_type": "execute_result",
          "data": {
            "text/plain": [
              "(800, 2)"
            ]
          },
          "metadata": {
            "tags": []
          },
          "execution_count": 155
        }
      ]
    },
    {
      "cell_type": "code",
      "metadata": {
        "id": "rmTae5Y7TcAy",
        "colab_type": "code",
        "colab": {
          "base_uri": "https://localhost:8080/",
          "height": 34
        },
        "outputId": "4340a181-59ce-4b01-a49f-b53ca22f9614"
      },
      "source": [
        "y.shape"
      ],
      "execution_count": 156,
      "outputs": [
        {
          "output_type": "execute_result",
          "data": {
            "text/plain": [
              "(800, 1)"
            ]
          },
          "metadata": {
            "tags": []
          },
          "execution_count": 156
        }
      ]
    },
    {
      "cell_type": "markdown",
      "metadata": {
        "id": "uurW4VL_T4bd",
        "colab_type": "text"
      },
      "source": [
        "# Divisao da base de Treinamento e Teste"
      ]
    },
    {
      "cell_type": "code",
      "metadata": {
        "id": "J9oTY3Q9Tc-F",
        "colab_type": "code",
        "colab": {}
      },
      "source": [
        "from sklearn.model_selection import train_test_split\n",
        "X_train, X_test, y_train, y_test = train_test_split(X, y, test_size = 0.2)"
      ],
      "execution_count": 0,
      "outputs": []
    },
    {
      "cell_type": "code",
      "metadata": {
        "id": "W9LdmB_ATsjS",
        "colab_type": "code",
        "colab": {
          "base_uri": "https://localhost:8080/",
          "height": 34
        },
        "outputId": "9c6bb240-abee-4135-b0b5-412b34fe66ab"
      },
      "source": [
        "X_train.shape"
      ],
      "execution_count": 158,
      "outputs": [
        {
          "output_type": "execute_result",
          "data": {
            "text/plain": [
              "(640, 2)"
            ]
          },
          "metadata": {
            "tags": []
          },
          "execution_count": 158
        }
      ]
    },
    {
      "cell_type": "code",
      "metadata": {
        "id": "xj1_KusxTvH9",
        "colab_type": "code",
        "colab": {
          "base_uri": "https://localhost:8080/",
          "height": 34
        },
        "outputId": "391ba991-63d8-4749-f7bb-1f3618069155"
      },
      "source": [
        "X_test.shape"
      ],
      "execution_count": 159,
      "outputs": [
        {
          "output_type": "execute_result",
          "data": {
            "text/plain": [
              "(160, 2)"
            ]
          },
          "metadata": {
            "tags": []
          },
          "execution_count": 159
        }
      ]
    },
    {
      "cell_type": "markdown",
      "metadata": {
        "id": "h76Iut1WT-tV",
        "colab_type": "text"
      },
      "source": [
        "# Construção e treinamento do modelo"
      ]
    },
    {
      "cell_type": "code",
      "metadata": {
        "id": "vJ5G_74STxQo",
        "colab_type": "code",
        "colab": {}
      },
      "source": [
        "model = tf.keras.models.Sequential()\n",
        "model.add(tf.keras.layers.Dense(units = 120, activation='relu', input_shape=(2,)))\n",
        "model.add(tf.keras.layers.Dense(units=120, activation='relu'))\n",
        "model.add(tf.keras.layers.Dense(units=120, activation='relu'))\n",
        "model.add(tf.keras.layers.Dense(units=120, activation='relu'))\n",
        "model.add(tf.keras.layers.Dense(units=1, activation='linear'))"
      ],
      "execution_count": 0,
      "outputs": []
    },
    {
      "cell_type": "code",
      "metadata": {
        "id": "EDnJ01BgT9Vn",
        "colab_type": "code",
        "colab": {
          "base_uri": "https://localhost:8080/",
          "height": 319
        },
        "outputId": "586b36bc-55bd-42b0-dcff-d63f28026087"
      },
      "source": [
        "model.summary()"
      ],
      "execution_count": 161,
      "outputs": [
        {
          "output_type": "stream",
          "text": [
            "Model: \"sequential_6\"\n",
            "_________________________________________________________________\n",
            "Layer (type)                 Output Shape              Param #   \n",
            "=================================================================\n",
            "dense_25 (Dense)             (None, 120)               360       \n",
            "_________________________________________________________________\n",
            "dense_26 (Dense)             (None, 120)               14520     \n",
            "_________________________________________________________________\n",
            "dense_27 (Dense)             (None, 120)               14520     \n",
            "_________________________________________________________________\n",
            "dense_28 (Dense)             (None, 120)               14520     \n",
            "_________________________________________________________________\n",
            "dense_29 (Dense)             (None, 1)                 121       \n",
            "=================================================================\n",
            "Total params: 44,041\n",
            "Trainable params: 44,041\n",
            "Non-trainable params: 0\n",
            "_________________________________________________________________\n"
          ],
          "name": "stdout"
        }
      ]
    },
    {
      "cell_type": "code",
      "metadata": {
        "id": "ps1hDkEKVOuB",
        "colab_type": "code",
        "colab": {}
      },
      "source": [
        "model.compile(optimizer='Adam', loss='mean_squared_error')"
      ],
      "execution_count": 0,
      "outputs": []
    },
    {
      "cell_type": "code",
      "metadata": {
        "id": "pTr3b7HLVXsf",
        "colab_type": "code",
        "colab": {
          "base_uri": "https://localhost:8080/",
          "height": 1000
        },
        "outputId": "693c3769-ad49-47b6-db24-adf4d4824885"
      },
      "source": [
        "epochs_hist = model.fit(X_train, y_train, epochs = 120, batch_size = 1, validation_split=0.2)"
      ],
      "execution_count": 163,
      "outputs": [
        {
          "output_type": "stream",
          "text": [
            "Train on 512 samples, validate on 128 samples\n",
            "Epoch 1/120\n",
            "512/512 [==============================] - 1s 3ms/sample - loss: 2692.9578 - val_loss: 4954.8194\n",
            "Epoch 2/120\n",
            "512/512 [==============================] - 1s 2ms/sample - loss: 2362.2809 - val_loss: 3111.9621\n",
            "Epoch 3/120\n",
            "512/512 [==============================] - 1s 2ms/sample - loss: 2273.7397 - val_loss: 3077.9317\n",
            "Epoch 4/120\n",
            "512/512 [==============================] - 1s 2ms/sample - loss: 2145.7143 - val_loss: 2975.2356\n",
            "Epoch 5/120\n",
            "512/512 [==============================] - 1s 2ms/sample - loss: 2046.7645 - val_loss: 3493.3022\n",
            "Epoch 6/120\n",
            "512/512 [==============================] - 1s 2ms/sample - loss: 1993.4737 - val_loss: 2310.1238\n",
            "Epoch 7/120\n",
            "512/512 [==============================] - 1s 2ms/sample - loss: 1687.6586 - val_loss: 1884.8710\n",
            "Epoch 8/120\n",
            "512/512 [==============================] - 1s 2ms/sample - loss: 1267.3433 - val_loss: 2461.2958\n",
            "Epoch 9/120\n",
            "512/512 [==============================] - 1s 2ms/sample - loss: 913.1521 - val_loss: 1022.5885\n",
            "Epoch 10/120\n",
            "512/512 [==============================] - 1s 2ms/sample - loss: 955.4242 - val_loss: 996.0507\n",
            "Epoch 11/120\n",
            "512/512 [==============================] - 1s 2ms/sample - loss: 881.1595 - val_loss: 624.5836\n",
            "Epoch 12/120\n",
            "512/512 [==============================] - 1s 2ms/sample - loss: 641.8598 - val_loss: 1127.1149\n",
            "Epoch 13/120\n",
            "512/512 [==============================] - 1s 2ms/sample - loss: 503.4510 - val_loss: 658.4713\n",
            "Epoch 14/120\n",
            "512/512 [==============================] - 1s 2ms/sample - loss: 582.0501 - val_loss: 859.1586\n",
            "Epoch 15/120\n",
            "512/512 [==============================] - 1s 2ms/sample - loss: 496.5450 - val_loss: 360.3059\n",
            "Epoch 16/120\n",
            "512/512 [==============================] - 1s 2ms/sample - loss: 377.1174 - val_loss: 121.1639\n",
            "Epoch 17/120\n",
            "512/512 [==============================] - 1s 2ms/sample - loss: 509.2825 - val_loss: 605.2548\n",
            "Epoch 18/120\n",
            "512/512 [==============================] - 1s 2ms/sample - loss: 290.4366 - val_loss: 4710.4564\n",
            "Epoch 19/120\n",
            "512/512 [==============================] - 1s 2ms/sample - loss: 696.7797 - val_loss: 436.1439\n",
            "Epoch 20/120\n",
            "512/512 [==============================] - 1s 2ms/sample - loss: 413.9369 - val_loss: 230.5334\n",
            "Epoch 21/120\n",
            "512/512 [==============================] - 1s 2ms/sample - loss: 231.9132 - val_loss: 866.1630\n",
            "Epoch 22/120\n",
            "512/512 [==============================] - 1s 2ms/sample - loss: 287.0779 - val_loss: 99.0394\n",
            "Epoch 23/120\n",
            "512/512 [==============================] - 1s 2ms/sample - loss: 291.6801 - val_loss: 251.8180\n",
            "Epoch 24/120\n",
            "512/512 [==============================] - 1s 2ms/sample - loss: 253.3585 - val_loss: 192.3430\n",
            "Epoch 25/120\n",
            "512/512 [==============================] - 1s 2ms/sample - loss: 271.9160 - val_loss: 184.3348\n",
            "Epoch 26/120\n",
            "512/512 [==============================] - 1s 2ms/sample - loss: 208.9326 - val_loss: 544.2955\n",
            "Epoch 27/120\n",
            "512/512 [==============================] - 1s 2ms/sample - loss: 231.0882 - val_loss: 320.3562\n",
            "Epoch 28/120\n",
            "512/512 [==============================] - 1s 2ms/sample - loss: 156.5178 - val_loss: 70.2042\n",
            "Epoch 29/120\n",
            "512/512 [==============================] - 1s 2ms/sample - loss: 222.7988 - val_loss: 372.2648\n",
            "Epoch 30/120\n",
            "512/512 [==============================] - 1s 2ms/sample - loss: 138.9346 - val_loss: 421.2361\n",
            "Epoch 31/120\n",
            "512/512 [==============================] - 1s 2ms/sample - loss: 454.5987 - val_loss: 732.0236\n",
            "Epoch 32/120\n",
            "512/512 [==============================] - 1s 2ms/sample - loss: 190.1856 - val_loss: 195.8457\n",
            "Epoch 33/120\n",
            "512/512 [==============================] - 1s 2ms/sample - loss: 355.9249 - val_loss: 244.6575\n",
            "Epoch 34/120\n",
            "512/512 [==============================] - 1s 2ms/sample - loss: 273.1129 - val_loss: 91.8495\n",
            "Epoch 35/120\n",
            "512/512 [==============================] - 1s 2ms/sample - loss: 214.8633 - val_loss: 253.1893\n",
            "Epoch 36/120\n",
            "512/512 [==============================] - 1s 2ms/sample - loss: 149.3729 - val_loss: 41.2007\n",
            "Epoch 37/120\n",
            "512/512 [==============================] - 1s 2ms/sample - loss: 203.3897 - val_loss: 56.6002\n",
            "Epoch 38/120\n",
            "512/512 [==============================] - 1s 2ms/sample - loss: 180.1094 - val_loss: 1256.1175\n",
            "Epoch 39/120\n",
            "512/512 [==============================] - 1s 2ms/sample - loss: 276.4753 - val_loss: 53.4106\n",
            "Epoch 40/120\n",
            "512/512 [==============================] - 1s 2ms/sample - loss: 142.4095 - val_loss: 83.3081\n",
            "Epoch 41/120\n",
            "512/512 [==============================] - 1s 2ms/sample - loss: 146.5567 - val_loss: 85.7193\n",
            "Epoch 42/120\n",
            "512/512 [==============================] - 1s 2ms/sample - loss: 205.4775 - val_loss: 55.0487\n",
            "Epoch 43/120\n",
            "512/512 [==============================] - 1s 2ms/sample - loss: 183.7109 - val_loss: 212.1836\n",
            "Epoch 44/120\n",
            "512/512 [==============================] - 1s 2ms/sample - loss: 168.0473 - val_loss: 120.1559\n",
            "Epoch 45/120\n",
            "512/512 [==============================] - 1s 2ms/sample - loss: 180.8006 - val_loss: 128.7977\n",
            "Epoch 46/120\n",
            "512/512 [==============================] - 1s 2ms/sample - loss: 193.3338 - val_loss: 488.7404\n",
            "Epoch 47/120\n",
            "512/512 [==============================] - 1s 2ms/sample - loss: 96.9599 - val_loss: 215.5180\n",
            "Epoch 48/120\n",
            "512/512 [==============================] - 1s 2ms/sample - loss: 124.6804 - val_loss: 47.4768\n",
            "Epoch 49/120\n",
            "512/512 [==============================] - 1s 2ms/sample - loss: 181.1034 - val_loss: 58.3283\n",
            "Epoch 50/120\n",
            "512/512 [==============================] - 1s 2ms/sample - loss: 263.5723 - val_loss: 128.7786\n",
            "Epoch 51/120\n",
            "512/512 [==============================] - 1s 2ms/sample - loss: 151.0650 - val_loss: 102.5749\n",
            "Epoch 52/120\n",
            "512/512 [==============================] - 1s 2ms/sample - loss: 234.8378 - val_loss: 69.8160\n",
            "Epoch 53/120\n",
            "512/512 [==============================] - 1s 2ms/sample - loss: 56.8646 - val_loss: 64.6732\n",
            "Epoch 54/120\n",
            "512/512 [==============================] - 1s 2ms/sample - loss: 133.0351 - val_loss: 335.7279\n",
            "Epoch 55/120\n",
            "512/512 [==============================] - 1s 2ms/sample - loss: 200.6201 - val_loss: 359.7828\n",
            "Epoch 56/120\n",
            "512/512 [==============================] - 1s 2ms/sample - loss: 83.5172 - val_loss: 655.8748\n",
            "Epoch 57/120\n",
            "512/512 [==============================] - 1s 2ms/sample - loss: 256.5312 - val_loss: 100.3942\n",
            "Epoch 58/120\n",
            "512/512 [==============================] - 1s 2ms/sample - loss: 77.7355 - val_loss: 51.4726\n",
            "Epoch 59/120\n",
            "512/512 [==============================] - 1s 2ms/sample - loss: 189.7682 - val_loss: 879.5953\n",
            "Epoch 60/120\n",
            "512/512 [==============================] - 1s 2ms/sample - loss: 168.2825 - val_loss: 555.3034\n",
            "Epoch 61/120\n",
            "512/512 [==============================] - 1s 2ms/sample - loss: 141.1002 - val_loss: 53.4029\n",
            "Epoch 62/120\n",
            "512/512 [==============================] - 1s 2ms/sample - loss: 119.4089 - val_loss: 110.2379\n",
            "Epoch 63/120\n",
            "512/512 [==============================] - 1s 2ms/sample - loss: 184.6327 - val_loss: 124.1247\n",
            "Epoch 64/120\n",
            "512/512 [==============================] - 1s 2ms/sample - loss: 82.3466 - val_loss: 37.6635\n",
            "Epoch 65/120\n",
            "512/512 [==============================] - 1s 2ms/sample - loss: 117.5959 - val_loss: 71.6010\n",
            "Epoch 66/120\n",
            "512/512 [==============================] - 1s 2ms/sample - loss: 198.0603 - val_loss: 197.2512\n",
            "Epoch 67/120\n",
            "512/512 [==============================] - 1s 2ms/sample - loss: 202.2453 - val_loss: 96.2939\n",
            "Epoch 68/120\n",
            "512/512 [==============================] - 1s 2ms/sample - loss: 84.7697 - val_loss: 60.0524\n",
            "Epoch 69/120\n",
            "512/512 [==============================] - 1s 2ms/sample - loss: 123.7945 - val_loss: 174.8372\n",
            "Epoch 70/120\n",
            "512/512 [==============================] - 1s 2ms/sample - loss: 94.0269 - val_loss: 132.4403\n",
            "Epoch 71/120\n",
            "512/512 [==============================] - 1s 2ms/sample - loss: 148.6347 - val_loss: 90.6049\n",
            "Epoch 72/120\n",
            "512/512 [==============================] - 1s 2ms/sample - loss: 140.1365 - val_loss: 64.9726\n",
            "Epoch 73/120\n",
            "512/512 [==============================] - 1s 2ms/sample - loss: 179.0815 - val_loss: 626.4423\n",
            "Epoch 74/120\n",
            "512/512 [==============================] - 1s 2ms/sample - loss: 165.6962 - val_loss: 71.2139\n",
            "Epoch 75/120\n",
            "512/512 [==============================] - 1s 2ms/sample - loss: 199.4006 - val_loss: 79.0724\n",
            "Epoch 76/120\n",
            "512/512 [==============================] - 1s 2ms/sample - loss: 63.4408 - val_loss: 120.1671\n",
            "Epoch 77/120\n",
            "512/512 [==============================] - 1s 2ms/sample - loss: 274.8836 - val_loss: 119.6564\n",
            "Epoch 78/120\n",
            "512/512 [==============================] - 1s 2ms/sample - loss: 156.9850 - val_loss: 136.3161\n",
            "Epoch 79/120\n",
            "512/512 [==============================] - 1s 2ms/sample - loss: 68.7327 - val_loss: 25.6186\n",
            "Epoch 80/120\n",
            "512/512 [==============================] - 1s 2ms/sample - loss: 174.8237 - val_loss: 118.5634\n",
            "Epoch 81/120\n",
            "512/512 [==============================] - 1s 2ms/sample - loss: 287.0531 - val_loss: 134.7392\n",
            "Epoch 82/120\n",
            "512/512 [==============================] - 1s 2ms/sample - loss: 132.7228 - val_loss: 45.5242\n",
            "Epoch 83/120\n",
            "512/512 [==============================] - 1s 2ms/sample - loss: 245.4143 - val_loss: 164.4898\n",
            "Epoch 84/120\n",
            "512/512 [==============================] - 1s 2ms/sample - loss: 98.4999 - val_loss: 70.8706\n",
            "Epoch 85/120\n",
            "512/512 [==============================] - 1s 2ms/sample - loss: 150.9599 - val_loss: 121.5367\n",
            "Epoch 86/120\n",
            "512/512 [==============================] - 1s 2ms/sample - loss: 33.9283 - val_loss: 140.9686\n",
            "Epoch 87/120\n",
            "512/512 [==============================] - 1s 2ms/sample - loss: 160.1730 - val_loss: 99.9470\n",
            "Epoch 88/120\n",
            "512/512 [==============================] - 1s 2ms/sample - loss: 78.3235 - val_loss: 439.7975\n",
            "Epoch 89/120\n",
            "512/512 [==============================] - 1s 2ms/sample - loss: 83.7652 - val_loss: 410.3499\n",
            "Epoch 90/120\n",
            "512/512 [==============================] - 1s 2ms/sample - loss: 273.1615 - val_loss: 76.4931\n",
            "Epoch 91/120\n",
            "512/512 [==============================] - 1s 2ms/sample - loss: 155.2068 - val_loss: 99.2554\n",
            "Epoch 92/120\n",
            "512/512 [==============================] - 1s 2ms/sample - loss: 90.5180 - val_loss: 1376.4569\n",
            "Epoch 93/120\n",
            "512/512 [==============================] - 1s 2ms/sample - loss: 264.1589 - val_loss: 499.9811\n",
            "Epoch 94/120\n",
            "512/512 [==============================] - 1s 2ms/sample - loss: 96.1037 - val_loss: 68.1429\n",
            "Epoch 95/120\n",
            "512/512 [==============================] - 1s 2ms/sample - loss: 130.3504 - val_loss: 1084.7144\n",
            "Epoch 96/120\n",
            "512/512 [==============================] - 1s 2ms/sample - loss: 162.9932 - val_loss: 127.8078\n",
            "Epoch 97/120\n",
            "512/512 [==============================] - 1s 2ms/sample - loss: 89.4072 - val_loss: 240.4009\n",
            "Epoch 98/120\n",
            "512/512 [==============================] - 1s 2ms/sample - loss: 136.3853 - val_loss: 1010.9081\n",
            "Epoch 99/120\n",
            "512/512 [==============================] - 1s 2ms/sample - loss: 111.2741 - val_loss: 111.4956\n",
            "Epoch 100/120\n",
            "512/512 [==============================] - 1s 2ms/sample - loss: 106.8845 - val_loss: 62.1038\n",
            "Epoch 101/120\n",
            "512/512 [==============================] - 1s 2ms/sample - loss: 83.7566 - val_loss: 128.9634\n",
            "Epoch 102/120\n",
            "512/512 [==============================] - 1s 2ms/sample - loss: 123.9313 - val_loss: 63.1335\n",
            "Epoch 103/120\n",
            "512/512 [==============================] - 1s 2ms/sample - loss: 111.9177 - val_loss: 122.1025\n",
            "Epoch 104/120\n",
            "512/512 [==============================] - 1s 2ms/sample - loss: 110.7069 - val_loss: 253.9956\n",
            "Epoch 105/120\n",
            "512/512 [==============================] - 1s 2ms/sample - loss: 285.4142 - val_loss: 152.1886\n",
            "Epoch 106/120\n",
            "512/512 [==============================] - 1s 2ms/sample - loss: 58.5616 - val_loss: 40.4425\n",
            "Epoch 107/120\n",
            "512/512 [==============================] - 1s 2ms/sample - loss: 148.1824 - val_loss: 78.2534\n",
            "Epoch 108/120\n",
            "512/512 [==============================] - 1s 2ms/sample - loss: 68.4315 - val_loss: 52.2519\n",
            "Epoch 109/120\n",
            "512/512 [==============================] - 1s 2ms/sample - loss: 64.5950 - val_loss: 27.4263\n",
            "Epoch 110/120\n",
            "512/512 [==============================] - 1s 2ms/sample - loss: 156.3374 - val_loss: 43.5495\n",
            "Epoch 111/120\n",
            "512/512 [==============================] - 1s 2ms/sample - loss: 145.9246 - val_loss: 74.1465\n",
            "Epoch 112/120\n",
            "512/512 [==============================] - 1s 2ms/sample - loss: 75.1136 - val_loss: 322.4209\n",
            "Epoch 113/120\n",
            "512/512 [==============================] - 1s 2ms/sample - loss: 72.6103 - val_loss: 129.0275\n",
            "Epoch 114/120\n",
            "512/512 [==============================] - 1s 2ms/sample - loss: 95.2623 - val_loss: 39.1387\n",
            "Epoch 115/120\n",
            "512/512 [==============================] - 1s 2ms/sample - loss: 75.7593 - val_loss: 880.4573\n",
            "Epoch 116/120\n",
            "512/512 [==============================] - 1s 2ms/sample - loss: 57.3221 - val_loss: 29.2802\n",
            "Epoch 117/120\n",
            "512/512 [==============================] - 1s 2ms/sample - loss: 103.6909 - val_loss: 521.0955\n",
            "Epoch 118/120\n",
            "512/512 [==============================] - 1s 2ms/sample - loss: 95.6692 - val_loss: 56.7820\n",
            "Epoch 119/120\n",
            "512/512 [==============================] - 1s 2ms/sample - loss: 191.7693 - val_loss: 2279.8550\n",
            "Epoch 120/120\n",
            "512/512 [==============================] - 1s 2ms/sample - loss: 143.4138 - val_loss: 89.3433\n"
          ],
          "name": "stdout"
        }
      ]
    },
    {
      "cell_type": "code",
      "metadata": {
        "id": "IFubNhECVbJI",
        "colab_type": "code",
        "colab": {
          "base_uri": "https://localhost:8080/",
          "height": 34
        },
        "outputId": "8396892d-886a-4cea-b58a-7678f3b3d3a3"
      },
      "source": [
        "epochs_hist.history.keys()"
      ],
      "execution_count": 164,
      "outputs": [
        {
          "output_type": "execute_result",
          "data": {
            "text/plain": [
              "dict_keys(['loss', 'val_loss'])"
            ]
          },
          "metadata": {
            "tags": []
          },
          "execution_count": 164
        }
      ]
    },
    {
      "cell_type": "code",
      "metadata": {
        "id": "zdSXv_MPViCd",
        "colab_type": "code",
        "colab": {
          "base_uri": "https://localhost:8080/",
          "height": 295
        },
        "outputId": "6fa4245b-6a53-4e18-9ab9-839c96ac319c"
      },
      "source": [
        "plt.plot(epochs_hist.history['loss'])\n",
        "plt.plot(epochs_hist.history['val_loss'])\n",
        "plt.title('Model loss progress during training')\n",
        "plt.xlabel('Epochs')\n",
        "plt.ylabel('Training and validation loss')\n",
        "plt.legend(['Training loss', 'Validation loss']);"
      ],
      "execution_count": 165,
      "outputs": [
        {
          "output_type": "display_data",
          "data": {
            "image/png": "[encoded data removed]",
            "text/plain": [
              "<Figure size 432x288 with 1 Axes>"
            ]
          },
          "metadata": {
            "tags": []
          }
        }
      ]
    },
    {
      "cell_type": "code",
      "metadata": {
        "id": "naK6cxkFaYNv",
        "colab_type": "code",
        "colab": {
          "base_uri": "https://localhost:8080/",
          "height": 34
        },
        "outputId": "c56bcc13-c698-48f4-df22-3c2dd1a90398"
      },
      "source": [
        "# Para fazer uma previsao:\n",
        "X_test_previsao = np.array([[68, 1.71]])\n",
        "y_predict_previsao = model.predict(X_test_previsao)\n",
        "y_predict_previsao"
      ],
      "execution_count": 166,
      "outputs": [
        {
          "output_type": "execute_result",
          "data": {
            "text/plain": [
              "array([[23.745945]], dtype=float32)"
            ]
          },
          "metadata": {
            "tags": []
          },
          "execution_count": 166
        }
      ]
    },
    {
      "cell_type": "code",
      "metadata": {
        "id": "YBBEtssyVrQn",
        "colab_type": "code",
        "colab": {}
      },
      "source": [
        "y_predict = model.predict(X_test)"
      ],
      "execution_count": 0,
      "outputs": []
    },
    {
      "cell_type": "code",
      "metadata": {
        "id": "DxFVlbk4VwJF",
        "colab_type": "code",
        "colab": {
          "base_uri": "https://localhost:8080/",
          "height": 1000
        },
        "outputId": "e68b1bad-22b9-4988-ebd8-25c943806d7a"
      },
      "source": [
        "y_predict"
      ],
      "execution_count": 168,
      "outputs": [
        {
          "output_type": "execute_result",
          "data": {
            "text/plain": [
              "array([[ 12.788077 ],\n",
              "       [ 21.417141 ],\n",
              "       [ 12.9225645],\n",
              "       [158.80028  ],\n",
              "       [ 18.565674 ],\n",
              "       [ 30.298515 ],\n",
              "       [131.84042  ],\n",
              "       [  8.411276 ],\n",
              "       [ 65.78468  ],\n",
              "       [ 48.414497 ],\n",
              "       [ 74.73452  ],\n",
              "       [221.26967  ],\n",
              "       [ 44.21217  ],\n",
              "       [227.20001  ],\n",
              "       [ 11.916645 ],\n",
              "       [  1.222759 ],\n",
              "       [ 95.20283  ],\n",
              "       [ 35.915047 ],\n",
              "       [ 24.582745 ],\n",
              "       [142.82352  ],\n",
              "       [ 82.68752  ],\n",
              "       [111.81419  ],\n",
              "       [ 76.5169   ],\n",
              "       [ 24.552643 ],\n",
              "       [ 45.576904 ],\n",
              "       [ 77.64045  ],\n",
              "       [ 32.828667 ],\n",
              "       [  9.788947 ],\n",
              "       [ 87.04301  ],\n",
              "       [286.10263  ],\n",
              "       [ 34.997383 ],\n",
              "       [ 63.092316 ],\n",
              "       [ 88.93389  ],\n",
              "       [ 13.948194 ],\n",
              "       [ 29.886543 ],\n",
              "       [  9.475385 ],\n",
              "       [118.6894   ],\n",
              "       [104.40054  ],\n",
              "       [ 15.004563 ],\n",
              "       [222.37866  ],\n",
              "       [107.06942  ],\n",
              "       [  4.3790703],\n",
              "       [ 19.107124 ],\n",
              "       [ 43.918312 ],\n",
              "       [168.24878  ],\n",
              "       [ 72.48258  ],\n",
              "       [ 65.36666  ],\n",
              "       [ 37.026398 ],\n",
              "       [ 12.153432 ],\n",
              "       [ 32.082516 ],\n",
              "       [  1.6788605],\n",
              "       [  5.928141 ],\n",
              "       [ 32.962017 ],\n",
              "       [  7.0625906],\n",
              "       [ 21.729366 ],\n",
              "       [  9.317846 ],\n",
              "       [ 90.458664 ],\n",
              "       [ 19.56298  ],\n",
              "       [ 10.265386 ],\n",
              "       [  8.91831  ],\n",
              "       [ 26.223488 ],\n",
              "       [ 22.718914 ],\n",
              "       [ 17.93899  ],\n",
              "       [ 28.36015  ],\n",
              "       [ 54.048637 ],\n",
              "       [ 92.98149  ],\n",
              "       [162.73898  ],\n",
              "       [ 11.202924 ],\n",
              "       [ 42.940357 ],\n",
              "       [ 92.02294  ],\n",
              "       [ 66.024345 ],\n",
              "       [  3.9712996],\n",
              "       [ 69.13263  ],\n",
              "       [ 53.444046 ],\n",
              "       [ 29.55735  ],\n",
              "       [220.86794  ],\n",
              "       [  5.6542034],\n",
              "       [ 13.2163315],\n",
              "       [ 76.95543  ],\n",
              "       [ 17.781693 ],\n",
              "       [ 78.79562  ],\n",
              "       [ 30.41151  ],\n",
              "       [  6.795967 ],\n",
              "       [ 56.18891  ],\n",
              "       [ 30.711716 ],\n",
              "       [202.28183  ],\n",
              "       [ 14.053896 ],\n",
              "       [ 86.547806 ],\n",
              "       [ 43.277374 ],\n",
              "       [111.793846 ],\n",
              "       [ 80.48823  ],\n",
              "       [ 76.2072   ],\n",
              "       [ 74.49593  ],\n",
              "       [ 58.192783 ],\n",
              "       [181.11206  ],\n",
              "       [ 80.05863  ],\n",
              "       [ 50.318336 ],\n",
              "       [  3.7870846],\n",
              "       [ 56.621094 ],\n",
              "       [ 26.396488 ],\n",
              "       [  6.758767 ],\n",
              "       [ 91.86478  ],\n",
              "       [ 29.269451 ],\n",
              "       [ 10.576505 ],\n",
              "       [ 44.675083 ],\n",
              "       [201.0935   ],\n",
              "       [ 33.005245 ],\n",
              "       [  3.9110816],\n",
              "       [ 68.856316 ],\n",
              "       [ 71.54568  ],\n",
              "       [ 57.499767 ],\n",
              "       [128.93465  ],\n",
              "       [132.1403   ],\n",
              "       [  3.7301965],\n",
              "       [116.606895 ],\n",
              "       [240.54991  ],\n",
              "       [ 54.389416 ],\n",
              "       [ 20.582897 ],\n",
              "       [106.25871  ],\n",
              "       [ 11.081303 ],\n",
              "       [ 13.51996  ],\n",
              "       [ 73.458824 ],\n",
              "       [  6.7688303],\n",
              "       [148.04703  ],\n",
              "       [  2.725583 ],\n",
              "       [ 81.17431  ],\n",
              "       [ 95.61475  ],\n",
              "       [ 27.009949 ],\n",
              "       [157.28159  ],\n",
              "       [ 45.23107  ],\n",
              "       [ 89.2064   ],\n",
              "       [ 19.07611  ],\n",
              "       [161.51526  ],\n",
              "       [ 52.203453 ],\n",
              "       [ 66.60233  ],\n",
              "       [ 23.205952 ],\n",
              "       [ 10.024176 ],\n",
              "       [ 59.22212  ],\n",
              "       [ 31.005928 ],\n",
              "       [ 29.019707 ],\n",
              "       [120.07383  ],\n",
              "       [ 44.48314  ],\n",
              "       [ 69.03284  ],\n",
              "       [112.80419  ],\n",
              "       [ 12.756261 ],\n",
              "       [ 16.838348 ],\n",
              "       [199.52002  ],\n",
              "       [ 16.169258 ],\n",
              "       [  7.2465296],\n",
              "       [ 72.537605 ],\n",
              "       [ 22.545544 ],\n",
              "       [ 14.911393 ],\n",
              "       [ 33.113728 ],\n",
              "       [ 77.15157  ],\n",
              "       [ 17.020317 ],\n",
              "       [ 52.959587 ],\n",
              "       [168.56387  ],\n",
              "       [ 13.712075 ],\n",
              "       [ 36.140617 ],\n",
              "       [ 15.731616 ]], dtype=float32)"
            ]
          },
          "metadata": {
            "tags": []
          },
          "execution_count": 168
        }
      ]
    },
    {
      "cell_type": "code",
      "metadata": {
        "id": "pZyEvpGzVzDe",
        "colab_type": "code",
        "colab": {
          "base_uri": "https://localhost:8080/",
          "height": 300
        },
        "outputId": "090d1381-0517-42e4-d9fb-bc917c27ad7b"
      },
      "source": [
        "plt.plot(y_test, y_predict, \"^\", color = 'r')\n",
        "plt.xlabel('Model predictions')\n",
        "plt.ylabel('True values')"
      ],
      "execution_count": 169,
      "outputs": [
        {
          "output_type": "execute_result",
          "data": {
            "text/plain": [
              "Text(0, 0.5, 'True values')"
            ]
          },
          "metadata": {
            "tags": []
          },
          "execution_count": 169
        },
        {
          "output_type": "display_data",
          "data": {
            "image/png": "[encoded data removed]",
            "text/plain": [
              "<Figure size 432x288 with 1 Axes>"
            ]
          },
          "metadata": {
            "tags": []
          }
        }
      ]
    },
    {
      "cell_type": "code",
      "metadata": {
        "id": "k8QsQEsXV2-r",
        "colab_type": "code",
        "colab": {}
      },
      "source": [
        "from sklearn.metrics import r2_score, mean_squared_error, mean_absolute_error\n",
        "from math import sqrt"
      ],
      "execution_count": 0,
      "outputs": []
    },
    {
      "cell_type": "code",
      "metadata": {
        "id": "wduacGGhWRIl",
        "colab_type": "code",
        "colab": {}
      },
      "source": [
        "k = X_test.shape[1]\n",
        "n = len(X_test)"
      ],
      "execution_count": 0,
      "outputs": []
    },
    {
      "cell_type": "code",
      "metadata": {
        "id": "J408lDw8WAfn",
        "colab_type": "code",
        "colab": {}
      },
      "source": [
        "mae = mean_absolute_error(y_test, y_predict)\n",
        "mse = mean_squared_error(y_test, y_predict)\n",
        "rmse = sqrt(mse)\n",
        "r2 = r2_score(y_test, y_predict)\n",
        "adj_r2 = 1 - (1 - r2) * (n - 1) / (n - k - 1)"
      ],
      "execution_count": 0,
      "outputs": []
    },
    {
      "cell_type": "code",
      "metadata": {
        "id": "bS14Av0yWC0-",
        "colab_type": "code",
        "colab": {
          "base_uri": "https://localhost:8080/",
          "height": 101
        },
        "outputId": "b34e263a-1efc-4a9c-b09a-e50dbf867f41"
      },
      "source": [
        "print(\"MAE: \", mae, \"\\nMSE: \", mse, \"\\nRMSE: \", rmse, \"\\nR2: \", r2, \"\\nADJ R2: \", adj_r2)"
      ],
      "execution_count": 173,
      "outputs": [
        {
          "output_type": "stream",
          "text": [
            "MAE:  3.641652539581061 \n",
            "MSE:  63.366618711972095 \n",
            "RMSE:  7.960315239484683 \n",
            "R2:  0.9814967604805559 \n",
            "ADJ R2:  0.9812610504229834\n"
          ],
          "name": "stdout"
        }
      ]
    },
    {
      "cell_type": "code",
      "metadata": {
        "id": "8YVKGHLFWXBF",
        "colab_type": "code",
        "colab": {}
      },
      "source": [
        ""
      ],
      "execution_count": 0,
      "outputs": []
    }
  ]
}