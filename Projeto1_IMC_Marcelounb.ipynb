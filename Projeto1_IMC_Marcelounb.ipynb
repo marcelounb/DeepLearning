{
  "nbformat": 4,
  "nbformat_minor": 0,
  "metadata": {
    "colab": {
      "name": "Projeto1_IMC_Marcelounb.ipynb",
      "provenance": [],
      "authorship_tag": "ABX9TyO8QbnX7OMhSCovUEyub56U",
      "include_colab_link": true
    },
    "kernelspec": {
      "name": "python3",
      "display_name": "Python 3"
    }
  },
  "cells": [
    {
      "cell_type": "markdown",
      "metadata": {
        "id": "view-in-github",
        "colab_type": "text"
      },
      "source": [
        "<a href=\"https://colab.research.google.com/github/marcelounb/DeepLearning/blob/master/Projeto1_IMC_Marcelounb.ipynb\" target=\"_parent\"><img src=\"https://colab.research.google.com/assets/colab-badge.svg\" alt=\"Open In Colab\"/></a>"
      ]
    },
    {
      "cell_type": "code",
      "metadata": {
        "id": "mHyhVy8qlxg4",
        "colab_type": "code",
        "colab": {}
      },
      "source": [
        "%tensorflow_version 2.x\n",
        "import tensorflow as tf\n",
        "import pandas as pd\n",
        "import numpy as np\n",
        "import seaborn as sns\n",
        "import matplotlib.pyplot as plt\n"
      ],
      "execution_count": 0,
      "outputs": []
    },
    {
      "cell_type": "code",
      "metadata": {
        "id": "dQQNLjOXm8it",
        "colab_type": "code",
        "colab": {}
      },
      "source": [
        "imcs = pd.read_csv('/content/imc.csv')\n",
        "imcs.reset_index(drop=True, inplace=True)"
      ],
      "execution_count": 0,
      "outputs": []
    },
    {
      "cell_type": "code",
      "metadata": {
        "id": "xTdpYnRWnSUo",
        "colab_type": "code",
        "colab": {
          "base_uri": "https://localhost:8080/",
          "height": 402
        },
        "outputId": "930eb211-5ab3-46a4-fcac-2c2224f091df"
      },
      "source": [
        "imcs"
      ],
      "execution_count": 13,
      "outputs": [
        {
          "output_type": "execute_result",
          "data": {
            "text/html": [
              "<div>\n",
              "<style scoped>\n",
              "    .dataframe tbody tr th:only-of-type {\n",
              "        vertical-align: middle;\n",
              "    }\n",
              "\n",
              "    .dataframe tbody tr th {\n",
              "        vertical-align: top;\n",
              "    }\n",
              "\n",
              "    .dataframe thead th {\n",
              "        text-align: right;\n",
              "    }\n",
              "</style>\n",
              "<table border=\"1\" class=\"dataframe\">\n",
              "  <thead>\n",
              "    <tr style=\"text-align: right;\">\n",
              "      <th></th>\n",
              "      <th>weight</th>\n",
              "      <th>height</th>\n",
              "      <th>imc</th>\n",
              "    </tr>\n",
              "  </thead>\n",
              "  <tbody>\n",
              "    <tr>\n",
              "      <th>0</th>\n",
              "      <td>68.0</td>\n",
              "      <td>1.710</td>\n",
              "      <td>23.255019</td>\n",
              "    </tr>\n",
              "    <tr>\n",
              "      <th>1</th>\n",
              "      <td>55.7</td>\n",
              "      <td>1.102</td>\n",
              "      <td>45.866120</td>\n",
              "    </tr>\n",
              "    <tr>\n",
              "      <th>2</th>\n",
              "      <td>14.3</td>\n",
              "      <td>1.284</td>\n",
              "      <td>8.673732</td>\n",
              "    </tr>\n",
              "    <tr>\n",
              "      <th>3</th>\n",
              "      <td>83.1</td>\n",
              "      <td>1.183</td>\n",
              "      <td>59.378816</td>\n",
              "    </tr>\n",
              "    <tr>\n",
              "      <th>4</th>\n",
              "      <td>96.6</td>\n",
              "      <td>1.866</td>\n",
              "      <td>27.743027</td>\n",
              "    </tr>\n",
              "    <tr>\n",
              "      <th>...</th>\n",
              "      <td>...</td>\n",
              "      <td>...</td>\n",
              "      <td>...</td>\n",
              "    </tr>\n",
              "    <tr>\n",
              "      <th>195</th>\n",
              "      <td>20.5</td>\n",
              "      <td>1.823</td>\n",
              "      <td>6.168514</td>\n",
              "    </tr>\n",
              "    <tr>\n",
              "      <th>196</th>\n",
              "      <td>18.9</td>\n",
              "      <td>1.394</td>\n",
              "      <td>9.726045</td>\n",
              "    </tr>\n",
              "    <tr>\n",
              "      <th>197</th>\n",
              "      <td>56.8</td>\n",
              "      <td>1.177</td>\n",
              "      <td>41.001091</td>\n",
              "    </tr>\n",
              "    <tr>\n",
              "      <th>198</th>\n",
              "      <td>46.6</td>\n",
              "      <td>1.979</td>\n",
              "      <td>11.898558</td>\n",
              "    </tr>\n",
              "    <tr>\n",
              "      <th>199</th>\n",
              "      <td>4.0</td>\n",
              "      <td>1.082</td>\n",
              "      <td>3.416689</td>\n",
              "    </tr>\n",
              "  </tbody>\n",
              "</table>\n",
              "<p>200 rows × 3 columns</p>\n",
              "</div>"
            ],
            "text/plain": [
              "     weight  height        imc\n",
              "0      68.0   1.710  23.255019\n",
              "1      55.7   1.102  45.866120\n",
              "2      14.3   1.284   8.673732\n",
              "3      83.1   1.183  59.378816\n",
              "4      96.6   1.866  27.743027\n",
              "..      ...     ...        ...\n",
              "195    20.5   1.823   6.168514\n",
              "196    18.9   1.394   9.726045\n",
              "197    56.8   1.177  41.001091\n",
              "198    46.6   1.979  11.898558\n",
              "199     4.0   1.082   3.416689\n",
              "\n",
              "[200 rows x 3 columns]"
            ]
          },
          "metadata": {
            "tags": []
          },
          "execution_count": 13
        }
      ]
    },
    {
      "cell_type": "code",
      "metadata": {
        "id": "vBEt7fqanX0B",
        "colab_type": "code",
        "colab": {
          "base_uri": "https://localhost:8080/",
          "height": 151
        },
        "outputId": "0bd29e96-182f-499f-c128-eb32e50e7b35"
      },
      "source": [
        "imcs.info()"
      ],
      "execution_count": 14,
      "outputs": [
        {
          "output_type": "stream",
          "text": [
            "<class 'pandas.core.frame.DataFrame'>\n",
            "RangeIndex: 200 entries, 0 to 199\n",
            "Data columns (total 3 columns):\n",
            "weight    200 non-null float64\n",
            "height    200 non-null float64\n",
            "imc       200 non-null float64\n",
            "dtypes: float64(3)\n",
            "memory usage: 4.8 KB\n"
          ],
          "name": "stdout"
        }
      ]
    },
    {
      "cell_type": "code",
      "metadata": {
        "id": "vxK0E56-qQUe",
        "colab_type": "code",
        "colab": {
          "base_uri": "https://localhost:8080/",
          "height": 284
        },
        "outputId": "75543990-f56f-4011-f884-fedd86be1cf6"
      },
      "source": [
        "imcs.describe()"
      ],
      "execution_count": 15,
      "outputs": [
        {
          "output_type": "execute_result",
          "data": {
            "text/html": [
              "<div>\n",
              "<style scoped>\n",
              "    .dataframe tbody tr th:only-of-type {\n",
              "        vertical-align: middle;\n",
              "    }\n",
              "\n",
              "    .dataframe tbody tr th {\n",
              "        vertical-align: top;\n",
              "    }\n",
              "\n",
              "    .dataframe thead th {\n",
              "        text-align: right;\n",
              "    }\n",
              "</style>\n",
              "<table border=\"1\" class=\"dataframe\">\n",
              "  <thead>\n",
              "    <tr style=\"text-align: right;\">\n",
              "      <th></th>\n",
              "      <th>weight</th>\n",
              "      <th>height</th>\n",
              "      <th>imc</th>\n",
              "    </tr>\n",
              "  </thead>\n",
              "  <tbody>\n",
              "    <tr>\n",
              "      <th>count</th>\n",
              "      <td>200.00000</td>\n",
              "      <td>200.000000</td>\n",
              "      <td>200.000000</td>\n",
              "    </tr>\n",
              "    <tr>\n",
              "      <th>mean</th>\n",
              "      <td>52.41300</td>\n",
              "      <td>1.515465</td>\n",
              "      <td>25.088434</td>\n",
              "    </tr>\n",
              "    <tr>\n",
              "      <th>std</th>\n",
              "      <td>28.56287</td>\n",
              "      <td>0.272873</td>\n",
              "      <td>17.109121</td>\n",
              "    </tr>\n",
              "    <tr>\n",
              "      <th>min</th>\n",
              "      <td>0.20000</td>\n",
              "      <td>1.006000</td>\n",
              "      <td>0.060446</td>\n",
              "    </tr>\n",
              "    <tr>\n",
              "      <th>25%</th>\n",
              "      <td>25.85000</td>\n",
              "      <td>1.313500</td>\n",
              "      <td>11.587945</td>\n",
              "    </tr>\n",
              "    <tr>\n",
              "      <th>50%</th>\n",
              "      <td>55.80000</td>\n",
              "      <td>1.514500</td>\n",
              "      <td>21.460717</td>\n",
              "    </tr>\n",
              "    <tr>\n",
              "      <th>75%</th>\n",
              "      <td>75.97500</td>\n",
              "      <td>1.753250</td>\n",
              "      <td>36.860554</td>\n",
              "    </tr>\n",
              "    <tr>\n",
              "      <th>max</th>\n",
              "      <td>99.60000</td>\n",
              "      <td>1.994000</td>\n",
              "      <td>79.562675</td>\n",
              "    </tr>\n",
              "  </tbody>\n",
              "</table>\n",
              "</div>"
            ],
            "text/plain": [
              "          weight      height         imc\n",
              "count  200.00000  200.000000  200.000000\n",
              "mean    52.41300    1.515465   25.088434\n",
              "std     28.56287    0.272873   17.109121\n",
              "min      0.20000    1.006000    0.060446\n",
              "25%     25.85000    1.313500   11.587945\n",
              "50%     55.80000    1.514500   21.460717\n",
              "75%     75.97500    1.753250   36.860554\n",
              "max     99.60000    1.994000   79.562675"
            ]
          },
          "metadata": {
            "tags": []
          },
          "execution_count": 15
        }
      ]
    },
    {
      "cell_type": "code",
      "metadata": {
        "id": "Fi0s5IrxqSGt",
        "colab_type": "code",
        "colab": {
          "base_uri": "https://localhost:8080/",
          "height": 296
        },
        "outputId": "f6a85793-79e3-48b4-f292-0f74fbe5fd47"
      },
      "source": [
        "sns.scatterplot(imcs['weight'], imcs['imc'])"
      ],
      "execution_count": 18,
      "outputs": [
        {
          "output_type": "execute_result",
          "data": {
            "text/plain": [
              "<matplotlib.axes._subplots.AxesSubplot at 0x7f893b23db38>"
            ]
          },
          "metadata": {
            "tags": []
          },
          "execution_count": 18
        },
        {
          "output_type": "display_data",
          "data": {
            "image/png": "[encoded data removed]",
            "text/plain": [
              "<Figure size 432x288 with 1 Axes>"
            ]
          },
          "metadata": {
            "tags": []
          }
        }
      ]
    },
    {
      "cell_type": "markdown",
      "metadata": {
        "id": "891kmtr3q4hx",
        "colab_type": "text"
      },
      "source": [
        "# Configuração da base de dados de treinamento"
      ]
    },
    {
      "cell_type": "code",
      "metadata": {
        "id": "sh3Qcd_1qqYw",
        "colab_type": "code",
        "colab": {}
      },
      "source": [
        "X_train = imcs[]"
      ],
      "execution_count": 0,
      "outputs": []
    }
  ]
}