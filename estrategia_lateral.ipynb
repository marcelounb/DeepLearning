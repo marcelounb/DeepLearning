{
  "nbformat": 4,
  "nbformat_minor": 0,
  "metadata": {
    "colab": {
      "name": "estrategia lateral.ipynb",
      "provenance": [],
      "authorship_tag": "ABX9TyNFNwnEMnB8IRbVp+wVTMiP",
      "include_colab_link": true
    },
    "kernelspec": {
      "name": "python3",
      "display_name": "Python 3"
    }
  },
  "cells": [
    {
      "cell_type": "markdown",
      "metadata": {
        "id": "view-in-github",
        "colab_type": "text"
      },
      "source": [
        "<a href=\"https://colab.research.google.com/github/marcelounb/DeepLearning/blob/master/estrategia_lateral.ipynb\" target=\"_parent\"><img src=\"https://colab.research.google.com/assets/colab-badge.svg\" alt=\"Open In Colab\"/></a>"
      ]
    },
    {
      "cell_type": "code",
      "metadata": {
        "id": "Bi5MIs60rmKs",
        "colab_type": "code",
        "colab": {}
      },
      "source": [
        "import csv"
      ],
      "execution_count": 0,
      "outputs": []
    },
    {
      "cell_type": "code",
      "metadata": {
        "id": "Se1pN-XAr0Ns",
        "colab_type": "code",
        "colab": {}
      },
      "source": [
        "path = '/content/GBPUSD1.csv'"
      ],
      "execution_count": 0,
      "outputs": []
    },
    {
      "cell_type": "code",
      "metadata": {
        "id": "27XaiisHr6lz",
        "colab_type": "code",
        "colab": {}
      },
      "source": [
        "files = []\n",
        "with open(path, 'r', newline='') as csvfile:\n",
        "  leitura = csv.reader(csvfile, delimiter=',', quotechar='|')\n",
        "  for item in leitura:\n",
        "    files.append(item)\n",
        "    "
      ],
      "execution_count": 0,
      "outputs": []
    },
    {
      "cell_type": "code",
      "metadata": {
        "id": "7QfnqcgGsVkR",
        "colab_type": "code",
        "colab": {
          "base_uri": "https://localhost:8080/",
          "height": 35
        },
        "outputId": "a3e41bde-7e68-4547-d2b4-9e7adbe8b00f"
      },
      "source": [
        "files[0]\n",
        "# 0 - data\n",
        "# 1 - hora\n",
        "# 2 - abertura\n",
        "# 3 - maxima\n",
        "# 4 - minima\n",
        "# 5 - fechamento\n",
        "# 6 - volume"
      ],
      "execution_count": 13,
      "outputs": [
        {
          "output_type": "execute_result",
          "data": {
            "text/plain": [
              "['2020.04.02', '14:30', '1.23870', '1.23909', '1.23855', '1.23901', '118']"
            ]
          },
          "metadata": {
            "tags": []
          },
          "execution_count": 13
        }
      ]
    },
    {
      "cell_type": "code",
      "metadata": {
        "id": "dvlk2v8k0Dhe",
        "colab_type": "code",
        "colab": {}
      },
      "source": [
        ""
      ],
      "execution_count": 0,
      "outputs": []
    }
  ]
}