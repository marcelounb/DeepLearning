{
  "nbformat": 4,
  "nbformat_minor": 0,
  "metadata": {
    "colab": {
      "name": "estrategia lateral.ipynb",
      "provenance": [],
      "authorship_tag": "ABX9TyN42rvgfMpxhIT6k7ySPd6J",
      "include_colab_link": true
    },
    "kernelspec": {
      "name": "python3",
      "display_name": "Python 3"
    }
  },
  "cells": [
    {
      "cell_type": "markdown",
      "metadata": {
        "id": "view-in-github",
        "colab_type": "text"
      },
      "source": [
        "<a href=\"https://colab.research.google.com/github/marcelounb/DeepLearning/blob/master/estrategia_lateral.ipynb\" target=\"_parent\"><img src=\"https://colab.research.google.com/assets/colab-badge.svg\" alt=\"Open In Colab\"/></a>"
      ]
    },
    {
      "cell_type": "code",
      "metadata": {
        "id": "Bi5MIs60rmKs",
        "colab_type": "code",
        "colab": {}
      },
      "source": [
        "import csv"
      ],
      "execution_count": 0,
      "outputs": []
    },
    {
      "cell_type": "code",
      "metadata": {
        "id": "Se1pN-XAr0Ns",
        "colab_type": "code",
        "colab": {}
      },
      "source": [
        "path = '/content/GBPUSD1.csv'"
      ],
      "execution_count": 0,
      "outputs": []
    },
    {
      "cell_type": "code",
      "metadata": {
        "id": "27XaiisHr6lz",
        "colab_type": "code",
        "colab": {}
      },
      "source": [
        "files = []\n",
        "with open(path, 'r', newline='') as csvfile:\n",
        "  leitura = csv.reader(csvfile, delimiter=',', quotechar='|')\n",
        "  for item in leitura:\n",
        "    if float(item[5])-float(item[2]) > 0:\n",
        "      item.append('C')\n",
        "    elif float(item[5])-float(item[2]) < 0:\n",
        "      item.append('V')\n",
        "    else:\n",
        "      item.append('N')\n",
        "    files.append(item)\n",
        "    "
      ],
      "execution_count": 0,
      "outputs": []
    },
    {
      "cell_type": "code",
      "metadata": {
        "id": "7QfnqcgGsVkR",
        "colab_type": "code",
        "colab": {
          "base_uri": "https://localhost:8080/",
          "height": 35
        },
        "outputId": "8070cc31-0621-484b-9980-404981a59c78"
      },
      "source": [
        "files[0]\n",
        "# 0 - data\n",
        "# 1 - hora\n",
        "# 2 - abertura\n",
        "# 3 - maxima\n",
        "# 4 - minima\n",
        "# 5 - fechamento\n",
        "# 6 - volume\n",
        "# 7 - Compra Venda ou Neutro"
      ],
      "execution_count": 4,
      "outputs": [
        {
          "output_type": "execute_result",
          "data": {
            "text/plain": [
              "['2020.04.02', '14:30', '1.23870', '1.23909', '1.23855', '1.23901', '118', 'C']"
            ]
          },
          "metadata": {
            "tags": []
          },
          "execution_count": 4
        }
      ]
    },
    {
      "cell_type": "code",
      "metadata": {
        "id": "jSds8v7KCSxp",
        "colab_type": "code",
        "colab": {}
      },
      "source": [
        "seq = 'TTTTT'\n",
        "for item in files:\n",
        "  seq = seq[1:5]+item[7]\n",
        "  item.append(seq)"
      ],
      "execution_count": 0,
      "outputs": []
    },
    {
      "cell_type": "code",
      "metadata": {
        "id": "J1TT3-NaAGgs",
        "colab_type": "code",
        "colab": {
          "base_uri": "https://localhost:8080/",
          "height": 817
        },
        "outputId": "77784929-af3a-4086-98ba-2fe35f89040e"
      },
      "source": [
        "files[0:5]"
      ],
      "execution_count": 6,
      "outputs": [
        {
          "output_type": "execute_result",
          "data": {
            "text/plain": [
              "[['2020.04.02',\n",
              "  '14:30',\n",
              "  '1.23870',\n",
              "  '1.23909',\n",
              "  '1.23855',\n",
              "  '1.23901',\n",
              "  '118',\n",
              "  'C',\n",
              "  'TTTTC'],\n",
              " ['2020.04.02',\n",
              "  '14:31',\n",
              "  '1.23897',\n",
              "  '1.23999',\n",
              "  '1.23887',\n",
              "  '1.23937',\n",
              "  '142',\n",
              "  'C',\n",
              "  'TTTCC'],\n",
              " ['2020.04.02',\n",
              "  '14:32',\n",
              "  '1.23953',\n",
              "  '1.23976',\n",
              "  '1.23895',\n",
              "  '1.23931',\n",
              "  '134',\n",
              "  'V',\n",
              "  'TTCCV'],\n",
              " ['2020.04.02',\n",
              "  '14:33',\n",
              "  '1.23929',\n",
              "  '1.24014',\n",
              "  '1.23929',\n",
              "  '1.23977',\n",
              "  '126',\n",
              "  'C',\n",
              "  'TCCVC'],\n",
              " ['2020.04.02',\n",
              "  '14:34',\n",
              "  '1.23976',\n",
              "  '1.24080',\n",
              "  '1.23974',\n",
              "  '1.24041',\n",
              "  '122',\n",
              "  'C',\n",
              "  'CCVCC']]"
            ]
          },
          "metadata": {
            "tags": []
          },
          "execution_count": 6
        }
      ]
    },
    {
      "cell_type": "code",
      "metadata": {
        "id": "STCpOAgyEhzP",
        "colab_type": "code",
        "colab": {}
      },
      "source": [
        "lista_final = []\n",
        "for item in files:\n",
        "  if item[8][0:4] == 'CVCV':\n",
        "    lista_final.append(item)\n",
        "  elif item[8][0:4] == 'VCVC':\n",
        "    lista_final.append(item)"
      ],
      "execution_count": 0,
      "outputs": []
    },
    {
      "cell_type": "code",
      "metadata": {
        "id": "7E3xZ_XIGQZX",
        "colab_type": "code",
        "colab": {
          "base_uri": "https://localhost:8080/",
          "height": 35
        },
        "outputId": "8572a0ea-9bb5-49ac-fca4-13e69129586c"
      },
      "source": [
        "len(files)"
      ],
      "execution_count": 16,
      "outputs": [
        {
          "output_type": "execute_result",
          "data": {
            "text/plain": [
              "65624"
            ]
          },
          "metadata": {
            "tags": []
          },
          "execution_count": 16
        }
      ]
    },
    {
      "cell_type": "code",
      "metadata": {
        "id": "136m5RQDCAAu",
        "colab_type": "code",
        "colab": {
          "base_uri": "https://localhost:8080/",
          "height": 35
        },
        "outputId": "0855b217-40c8-48ca-daea-10d3ff063e95"
      },
      "source": [
        "len(lista_final)"
      ],
      "execution_count": 15,
      "outputs": [
        {
          "output_type": "execute_result",
          "data": {
            "text/plain": [
              "6615"
            ]
          },
          "metadata": {
            "tags": []
          },
          "execution_count": 15
        }
      ]
    }
  ]
}