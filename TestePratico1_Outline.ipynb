{
  "nbformat": 4,
  "nbformat_minor": 0,
  "metadata": {
    "colab": {
      "name": "TestePratico1-Outline.ipynb",
      "provenance": [],
      "authorship_tag": "ABX9TyMCSQdHRjMq5OfutgVhV+cG",
      "include_colab_link": true
    },
    "kernelspec": {
      "name": "python3",
      "display_name": "Python 3"
    }
  },
  "cells": [
    {
      "cell_type": "markdown",
      "metadata": {
        "id": "view-in-github",
        "colab_type": "text"
      },
      "source": [
        "<a href=\"https://colab.research.google.com/github/marcelounb/DeepLearning/blob/master/TestePratico1_Outline.ipynb\" target=\"_parent\"><img src=\"https://colab.research.google.com/assets/colab-badge.svg\" alt=\"Open In Colab\"/></a>"
      ]
    },
    {
      "cell_type": "code",
      "metadata": {
        "id": "L4oFeVD_WgTg",
        "colab_type": "code",
        "colab": {}
      },
      "source": [
        "%tensorflow_version 2.x\n",
        "import tensorflow as tf\n",
        "import pandas as pd\n",
        "import numpy as np\n",
        "import matplotlib.pyplot as plt\n",
        "import zipfile\n"
      ],
      "execution_count": 0,
      "outputs": []
    },
    {
      "cell_type": "code",
      "metadata": {
        "id": "3pSExfjC-Vpm",
        "colab_type": "code",
        "colab": {}
      },
      "source": [
        "from tensorflow.keras.callbacks import ReduceLROnPlateau\n",
        "from tensorflow.keras import utils"
      ],
      "execution_count": 0,
      "outputs": []
    },
    {
      "cell_type": "code",
      "metadata": {
        "id": "DJK5RrpAZ4Rz",
        "colab_type": "code",
        "colab": {
          "base_uri": "https://localhost:8080/",
          "height": 34
        },
        "outputId": "ffb0ff06-6941-4949-ae10-499a0f85f982"
      },
      "source": [
        "from google.colab import drive\n",
        "drive.mount('/content/drive')"
      ],
      "execution_count": 7,
      "outputs": [
        {
          "output_type": "stream",
          "text": [
            "Drive already mounted at /content/drive; to attempt to forcibly remount, call drive.mount(\"/content/drive\", force_remount=True).\n"
          ],
          "name": "stdout"
        }
      ]
    },
    {
      "cell_type": "code",
      "metadata": {
        "id": "TSOaQjgjZ5qL",
        "colab_type": "code",
        "colab": {}
      },
      "source": [
        "path = \"/content/drive/My Drive/train.csv.zip\"\n",
        "zip_object = zipfile.ZipFile(file=path, mode=\"r\")\n",
        "zip_object.extractall(\"./\")\n",
        "zip_object.close()"
      ],
      "execution_count": 0,
      "outputs": []
    },
    {
      "cell_type": "code",
      "metadata": {
        "id": "oi6NppyfaGXZ",
        "colab_type": "code",
        "colab": {}
      },
      "source": [
        "path = \"/content/drive/My Drive/test.csv.zip\"\n",
        "zip_object = zipfile.ZipFile(file=path, mode=\"r\")\n",
        "zip_object.extractall(\"./\")\n",
        "zip_object.close()"
      ],
      "execution_count": 0,
      "outputs": []
    },
    {
      "cell_type": "code",
      "metadata": {
        "id": "wfGeSBC4WkyY",
        "colab_type": "code",
        "colab": {}
      },
      "source": [
        "#setamos o seed para reprodução do experimento\n",
        "np.random.seed(2)\n",
        "\n",
        "df_train = pd.read_csv('/content/train.csv')\n",
        "df_test = pd.read_csv('/content/test.csv')\n",
        "\n",
        "#retiramos a informação do digito\n",
        "x_train = df_train.drop([\"label\"], axis=1).values\n",
        "#apesar do dataset ja estar no formato 28x28, o framework do keras espera que seja\n",
        "#informado a terceira dimensão,portanto já redimensionamentos para 28x28x1.\n",
        "x_train = x_train.reshape((x_train.shape[0], 28, 28, 1))\n",
        "x_test = df_test.values.reshape((df_test.shape[0], 28, 28, 1))\n"
      ],
      "execution_count": 0,
      "outputs": []
    },
    {
      "cell_type": "code",
      "metadata": {
        "id": "0ippVO4BWsNc",
        "colab_type": "code",
        "colab": {}
      },
      "source": [
        "# utilizamos a função to_categorial do utils do keras para fazermos o one-hot-encoder da classe.\n",
        "y_train = df_train[\"label\"].values\n",
        "y_train = utils.to_categorical(y_train)\n",
        "y_train2 = y_train"
      ],
      "execution_count": 0,
      "outputs": []
    },
    {
      "cell_type": "code",
      "metadata": {
        "id": "kBtZHRybXFdX",
        "colab_type": "code",
        "colab": {
          "base_uri": "https://localhost:8080/",
          "height": 417
        },
        "outputId": "230e4696-d591-4828-fad1-1f36082bb118"
      },
      "source": [
        "#visualizando randomicamente algumas imagens\n",
        "for i in range(0, 6):\n",
        "    random_num = np.random.randint(0, len(x_train))\n",
        "    img = x_train[random_num]\n",
        "    plt.subplot(3,2,i+1)\n",
        "    plt.imshow(img.reshape(28, 28), cmap=plt.get_cmap('gray'))\n",
        "plt.subplots_adjust(top=1.4)\n",
        "plt.show()"
      ],
      "execution_count": 17,
      "outputs": [
        {
          "output_type": "display_data",
          "data": {
            "image/png": "[encoded data removed]",
            "text/plain": [
              "<Figure size 432x288 with 6 Axes>"
            ]
          },
          "metadata": {
            "tags": []
          }
        }
      ]
    },
    {
      "cell_type": "code",
      "metadata": {
        "id": "Y8sxzDHfcyvE",
        "colab_type": "code",
        "colab": {}
      },
      "source": [
        "## dado que o range de valores possível pra um pixél vai de 0-255 \n",
        "## escalonamos os valores entre 0-1\n",
        "## esse processo torna nosso modelo menos variante a pequenas alterações.\n",
        "x_train = x_train / 255\n",
        "x_train2 = x_train\n",
        "x_test = x_test / 255\n",
        "x_test2 = x_test"
      ],
      "execution_count": 0,
      "outputs": []
    },
    {
      "cell_type": "code",
      "metadata": {
        "id": "rAC71KqQc1Rn",
        "colab_type": "code",
        "colab": {}
      },
      "source": [
        "from tensorflow.keras import layers, models\n",
        "model = models.Sequential()"
      ],
      "execution_count": 0,
      "outputs": []
    },
    {
      "cell_type": "code",
      "metadata": {
        "id": "xWgXzFJ1gXcQ",
        "colab_type": "code",
        "colab": {}
      },
      "source": [
        "model.add(layers.Conv2D(32, (5,5), activation='relu', padding='same', input_shape=(28, 28,1)))\n",
        "model.add(layers.Conv2D(64, (5,5), activation='relu', padding='same'))\n",
        "model.add(layers.MaxPooling2D(pool_size=(2,2)))\n",
        "model.add(layers.Dropout(0.25))\n",
        "model.add(layers.Flatten())\n",
        "model.add(layers.Dense(128, activation='relu'))\n",
        "model.add(layers.Dropout(0.5))\n",
        "model.add(layers.Dense(10, activation='softmax'))\n"
      ],
      "execution_count": 0,
      "outputs": []
    },
    {
      "cell_type": "code",
      "metadata": {
        "id": "xwiVhgcGc4A6",
        "colab_type": "code",
        "colab": {
          "base_uri": "https://localhost:8080/",
          "height": 437
        },
        "outputId": "153c1e7b-84c5-4d86-9b8b-6e657a498dbd"
      },
      "source": [
        "optimizer = 'Adam'\n",
        "model.compile(loss='categorical_crossentropy', optimizer=optimizer, metrics=['accuracy'])\n",
        "print(model.summary())"
      ],
      "execution_count": 22,
      "outputs": [
        {
          "output_type": "stream",
          "text": [
            "Model: \"sequential\"\n",
            "_________________________________________________________________\n",
            "Layer (type)                 Output Shape              Param #   \n",
            "=================================================================\n",
            "conv2d (Conv2D)              (None, 28, 28, 32)        832       \n",
            "_________________________________________________________________\n",
            "conv2d_1 (Conv2D)            (None, 28, 28, 64)        51264     \n",
            "_________________________________________________________________\n",
            "max_pooling2d (MaxPooling2D) (None, 14, 14, 64)        0         \n",
            "_________________________________________________________________\n",
            "dropout (Dropout)            (None, 14, 14, 64)        0         \n",
            "_________________________________________________________________\n",
            "flatten (Flatten)            (None, 12544)             0         \n",
            "_________________________________________________________________\n",
            "dense (Dense)                (None, 128)               1605760   \n",
            "_________________________________________________________________\n",
            "dropout_1 (Dropout)          (None, 128)               0         \n",
            "_________________________________________________________________\n",
            "dense_1 (Dense)              (None, 10)                1290      \n",
            "=================================================================\n",
            "Total params: 1,659,146\n",
            "Trainable params: 1,659,146\n",
            "Non-trainable params: 0\n",
            "_________________________________________________________________\n",
            "None\n"
          ],
          "name": "stdout"
        }
      ]
    },
    {
      "cell_type": "code",
      "metadata": {
        "id": "pLCqzqGGiWx2",
        "colab_type": "code",
        "colab": {
          "base_uri": "https://localhost:8080/",
          "height": 353
        },
        "outputId": "3c1ec8b8-adf0-4aa7-9344-9ec7670858a1"
      },
      "source": [
        "epochs = 10\n",
        "history = model.fit(x_train, y_train, batch_size = 512, epochs = epochs)  # Treinamento 1 do modelo\"\"\""
      ],
      "execution_count": 38,
      "outputs": [
        {
          "output_type": "stream",
          "text": [
            "Epoch 1/10\n",
            "83/83 [==============================] - 269s 3s/step - loss: 0.0186 - accuracy: 0.9963\n",
            "Epoch 2/10\n",
            "83/83 [==============================] - 270s 3s/step - loss: 0.0129 - accuracy: 0.9970\n",
            "Epoch 3/10\n",
            "83/83 [==============================] - 270s 3s/step - loss: 0.0119 - accuracy: 0.9971\n",
            "Epoch 4/10\n",
            "83/83 [==============================] - 270s 3s/step - loss: 0.0092 - accuracy: 0.9975\n",
            "Epoch 5/10\n",
            "83/83 [==============================] - 271s 3s/step - loss: 0.0087 - accuracy: 0.9975\n",
            "Epoch 6/10\n",
            "83/83 [==============================] - 270s 3s/step - loss: 0.0079 - accuracy: 0.9977\n",
            "Epoch 7/10\n",
            "83/83 [==============================] - 272s 3s/step - loss: 0.0068 - accuracy: 0.9983\n",
            "Epoch 8/10\n",
            "83/83 [==============================] - 270s 3s/step - loss: 0.0058 - accuracy: 0.9984\n",
            "Epoch 9/10\n",
            "83/83 [==============================] - 270s 3s/step - loss: 0.0052 - accuracy: 0.9982\n",
            "Epoch 10/10\n",
            "83/83 [==============================] - 270s 3s/step - loss: 0.0056 - accuracy: 0.9984\n"
          ],
          "name": "stdout"
        }
      ]
    },
    {
      "cell_type": "code",
      "metadata": {
        "id": "0Wu6CEGZ0JJc",
        "colab_type": "code",
        "colab": {}
      },
      "source": [
        "# reduz o parâmetro de learning rate se não houver \n",
        "# melhoras em determinado número de epocas\n",
        "# útil para encontrar o mínimo global.\n",
        "\n",
        "learning_rate_reduction = ReduceLROnPlateau(monitor = 'val_accuracy', patience=3, verbose=1, factor=0.5, min_lr=0.00001)\n",
        "batch_size2 = 32\n",
        "epochs2 = 10"
      ],
      "execution_count": 0,
      "outputs": []
    },
    {
      "cell_type": "code",
      "metadata": {
        "id": "97eh-zKn0Pcp",
        "colab_type": "code",
        "colab": {
          "base_uri": "https://localhost:8080/",
          "height": 406
        },
        "outputId": "12f1e5f4-8c93-4587-dade-a16e38f8ec0f"
      },
      "source": [
        "history2 = model.fit(x_train2,\n",
        "                        y_train2,\n",
        "                        batch_size = batch_size2,\n",
        "                        epochs = epochs2,\n",
        "                        validation_split=0.2,\n",
        "                        verbose = 1,\n",
        "                        callbacks=[learning_rate_reduction])"
      ],
      "execution_count": 27,
      "outputs": [
        {
          "output_type": "stream",
          "text": [
            "Epoch 1/10\n",
            "1050/1050 [==============================] - 251s 239ms/step - loss: 0.0331 - accuracy: 0.9901 - val_loss: 0.0555 - val_accuracy: 0.9865 - lr: 0.0010\n",
            "Epoch 2/10\n",
            "1050/1050 [==============================] - 251s 240ms/step - loss: 0.0290 - accuracy: 0.9907 - val_loss: 0.0373 - val_accuracy: 0.9904 - lr: 0.0010\n",
            "Epoch 3/10\n",
            "1050/1050 [==============================] - 253s 241ms/step - loss: 0.0266 - accuracy: 0.9919 - val_loss: 0.0428 - val_accuracy: 0.9901 - lr: 0.0010\n",
            "Epoch 4/10\n",
            "1050/1050 [==============================] - 252s 240ms/step - loss: 0.0242 - accuracy: 0.9922 - val_loss: 0.0441 - val_accuracy: 0.9901 - lr: 0.0010\n",
            "Epoch 5/10\n",
            "1050/1050 [==============================] - ETA: 0s - loss: 0.0212 - accuracy: 0.9929\n",
            "Epoch 00005: ReduceLROnPlateau reducing learning rate to 0.0005000000237487257.\n",
            "1050/1050 [==============================] - 253s 241ms/step - loss: 0.0212 - accuracy: 0.9929 - val_loss: 0.0458 - val_accuracy: 0.9893 - lr: 0.0010\n",
            "Epoch 6/10\n",
            "1050/1050 [==============================] - 255s 242ms/step - loss: 0.0144 - accuracy: 0.9955 - val_loss: 0.0408 - val_accuracy: 0.9911 - lr: 5.0000e-04\n",
            "Epoch 7/10\n",
            "1050/1050 [==============================] - 251s 239ms/step - loss: 0.0095 - accuracy: 0.9965 - val_loss: 0.0508 - val_accuracy: 0.9912 - lr: 5.0000e-04\n",
            "Epoch 8/10\n",
            "1050/1050 [==============================] - 251s 239ms/step - loss: 0.0102 - accuracy: 0.9971 - val_loss: 0.0416 - val_accuracy: 0.9918 - lr: 5.0000e-04\n",
            "Epoch 9/10\n",
            "1050/1050 [==============================] - 252s 240ms/step - loss: 0.0091 - accuracy: 0.9966 - val_loss: 0.0446 - val_accuracy: 0.9918 - lr: 5.0000e-04\n",
            "Epoch 10/10\n",
            "1050/1050 [==============================] - 252s 240ms/step - loss: 0.0073 - accuracy: 0.9976 - val_loss: 0.0525 - val_accuracy: 0.9921 - lr: 5.0000e-04\n"
          ],
          "name": "stdout"
        }
      ]
    },
    {
      "cell_type": "code",
      "metadata": {
        "id": "9gk5srbxiaYG",
        "colab_type": "code",
        "colab": {}
      },
      "source": [
        "history_dict = history2.history"
      ],
      "execution_count": 0,
      "outputs": []
    },
    {
      "cell_type": "code",
      "metadata": {
        "id": "Fki12Gu7yl1f",
        "colab_type": "code",
        "colab": {
          "base_uri": "https://localhost:8080/",
          "height": 34
        },
        "outputId": "2b728e7d-cfcb-4f5b-8664-7d30ce032b05"
      },
      "source": [
        "history_dict.keys()"
      ],
      "execution_count": 32,
      "outputs": [
        {
          "output_type": "execute_result",
          "data": {
            "text/plain": [
              "dict_keys(['loss', 'accuracy', 'val_loss', 'val_accuracy', 'lr'])"
            ]
          },
          "metadata": {
            "tags": []
          },
          "execution_count": 32
        }
      ]
    },
    {
      "cell_type": "code",
      "metadata": {
        "id": "gLd5mZJHyTbm",
        "colab_type": "code",
        "colab": {}
      },
      "source": [
        "acc = history_dict['accuracy']\n",
        "val_acc = history_dict['val_accuracy']\n",
        "range_epochs = range(1, len(acc) + 1)"
      ],
      "execution_count": 0,
      "outputs": []
    },
    {
      "cell_type": "code",
      "metadata": {
        "id": "xFZDZezQnsZ0",
        "colab_type": "code",
        "colab": {
          "base_uri": "https://localhost:8080/",
          "height": 453
        },
        "outputId": "4a04ff33-ea7c-4bd2-a094-4301f2bd6652"
      },
      "source": [
        "plt.style.use('default')\n",
        "accuracy_val = plt.plot(range_epochs, val_acc, label='Acurácia no conjunto de validação')\n",
        "accuracy_train = plt.plot(range_epochs, acc, label='Acurácia no conjunto de treino', color=\"r\")\n",
        "plt.setp(accuracy_val, linewidth=2.0)\n",
        "plt.setp(accuracy_train, linewidth=2.0)\n",
        "plt.xlabel('Épocas') \n",
        "plt.ylabel('Acurácia')\n",
        "plt.legend(loc=\"lower right\")\n",
        "plt.show()"
      ],
      "execution_count": 34,
      "outputs": [
        {
          "output_type": "display_data",
          "data": {
            "image/png": "[encoded data removed]",
            "text/plain": [
              "<Figure size 640x480 with 1 Axes>"
            ]
          },
          "metadata": {
            "tags": []
          }
        }
      ]
    },
    {
      "cell_type": "code",
      "metadata": {
        "id": "RYP2bAYlnvq_",
        "colab_type": "code",
        "colab": {
          "base_uri": "https://localhost:8080/",
          "height": 87
        },
        "outputId": "44c89ecd-db7a-40fa-c5e2-f01bfa0548f0"
      },
      "source": [
        "predictions = model.predict_classes(x_test2)"
      ],
      "execution_count": 35,
      "outputs": [
        {
          "output_type": "stream",
          "text": [
            "WARNING:tensorflow:From <ipython-input-35-7de0541c035a>:1: Sequential.predict_classes (from tensorflow.python.keras.engine.sequential) is deprecated and will be removed after 2021-01-01.\n",
            "Instructions for updating:\n",
            "Please use instead:* `np.argmax(model.predict(x), axis=-1)`,   if your model does multi-class classification   (e.g. if it uses a `softmax` last-layer activation).* `(model.predict(x) > 0.5).astype(\"int32\")`,   if your model does binary classification   (e.g. if it uses a `sigmoid` last-layer activation).\n"
          ],
          "name": "stdout"
        }
      ]
    },
    {
      "cell_type": "code",
      "metadata": {
        "id": "qRHj5FgWn0QU",
        "colab_type": "code",
        "colab": {
          "base_uri": "https://localhost:8080/",
          "height": 385
        },
        "outputId": "fb300cf9-9ac3-40c8-c536-2dd32adff695"
      },
      "source": [
        "plt.figure(figsize=(7,14))\n",
        "for i in range(0, 8):\n",
        "    random_num = np.random.randint(0, len(x_test2))\n",
        "    img = x_test2[random_num]\n",
        "    plt.subplot(6,4,i+1)\n",
        "    plt.margins(x = 20, y = 20)\n",
        "    plt.title('Predição: ' + str(predictions[random_num]))\n",
        "    plt.imshow(img.reshape(28, 28), cmap=plt.get_cmap('gray'))\n",
        "plt.show()"
      ],
      "execution_count": 36,
      "outputs": [
        {
          "output_type": "display_data",
          "data": {
            "image/png": "[encoded data removed]",
            "text/plain": [
              "<Figure size 700x1400 with 8 Axes>"
            ]
          },
          "metadata": {
            "tags": []
          }
        }
      ]
    },
    {
      "cell_type": "code",
      "metadata": {
        "id": "oYu8sigdn27n",
        "colab_type": "code",
        "colab": {}
      },
      "source": [
        "submission = pd.DataFrame({'ImageID' : pd.Series(range(1,28001)), 'Label' : predictions})\n",
        "submission.to_csv(\"submission.csv\",index=False)"
      ],
      "execution_count": 0,
      "outputs": []
    }
  ]
}