{
  "nbformat": 4,
  "nbformat_minor": 0,
  "metadata": {
    "colab": {
      "name": "TestePratico1-Outline.ipynb",
      "provenance": [],
      "authorship_tag": "ABX9TyPjlZQaKoHIpJFq6Ghfr1bZ",
      "include_colab_link": true
    },
    "kernelspec": {
      "name": "python3",
      "display_name": "Python 3"
    }
  },
  "cells": [
    {
      "cell_type": "markdown",
      "metadata": {
        "id": "view-in-github",
        "colab_type": "text"
      },
      "source": [
        "<a href=\"https://colab.research.google.com/github/marcelounb/DeepLearning/blob/master/TestePratico1_Outline.ipynb\" target=\"_parent\"><img src=\"https://colab.research.google.com/assets/colab-badge.svg\" alt=\"Open In Colab\"/></a>"
      ]
    },
    {
      "cell_type": "code",
      "metadata": {
        "id": "L4oFeVD_WgTg",
        "colab_type": "code",
        "colab": {}
      },
      "source": [
        "%tensorflow_version 2.x\n",
        "import tensorflow as tf\n",
        "import pandas as pd\n",
        "import numpy as np\n",
        "import matplotlib.pyplot as plt\n",
        "import zipfile\n",
        "from keras.utils import np_utils"
      ],
      "execution_count": 0,
      "outputs": []
    },
    {
      "cell_type": "code",
      "metadata": {
        "id": "DJK5RrpAZ4Rz",
        "colab_type": "code",
        "colab": {
          "base_uri": "https://localhost:8080/",
          "height": 34
        },
        "outputId": "3bfd4b97-50ba-44c0-a98e-0ce27dae337e"
      },
      "source": [
        "from google.colab import drive\n",
        "drive.mount('/content/drive')"
      ],
      "execution_count": 16,
      "outputs": [
        {
          "output_type": "stream",
          "text": [
            "Drive already mounted at /content/drive; to attempt to forcibly remount, call drive.mount(\"/content/drive\", force_remount=True).\n"
          ],
          "name": "stdout"
        }
      ]
    },
    {
      "cell_type": "code",
      "metadata": {
        "id": "TSOaQjgjZ5qL",
        "colab_type": "code",
        "colab": {}
      },
      "source": [
        "path = \"/content/drive/My Drive/train.csv.zip\"\n",
        "zip_object = zipfile.ZipFile(file=path, mode=\"r\")\n",
        "zip_object.extractall(\"./\")\n",
        "zip_object.close()"
      ],
      "execution_count": 0,
      "outputs": []
    },
    {
      "cell_type": "code",
      "metadata": {
        "id": "oi6NppyfaGXZ",
        "colab_type": "code",
        "colab": {}
      },
      "source": [
        "path = \"/content/drive/My Drive/test.csv.zip\"\n",
        "zip_object = zipfile.ZipFile(file=path, mode=\"r\")\n",
        "zip_object.extractall(\"./\")\n",
        "zip_object.close()"
      ],
      "execution_count": 0,
      "outputs": []
    },
    {
      "cell_type": "code",
      "metadata": {
        "id": "wfGeSBC4WkyY",
        "colab_type": "code",
        "colab": {}
      },
      "source": [
        "#setamos o seed para reprodução do experimento\n",
        "np.random.seed(2)\n",
        "\n",
        "df_train = pd.read_csv('/content/train.csv')\n",
        "df_test = pd.read_csv('/content/test.csv')\n",
        "\n",
        "#retiramos a informação do digito\n",
        "x_train = df_train.drop([\"label\"], axis=1).values\n",
        "#apesar do dataset ja estar no formato 28x28, o framework do keras espera que seja\n",
        "#informado a terceira dimensão,portanto já redimensionamentos para 28x28x1.\n",
        "x_train = x_train.reshape((x_train.shape[0], 28, 28, 1))\n",
        "x_test = df_test.values.reshape((df_test.shape[0], 28, 28, 1))\n"
      ],
      "execution_count": 0,
      "outputs": []
    },
    {
      "cell_type": "code",
      "metadata": {
        "id": "0ippVO4BWsNc",
        "colab_type": "code",
        "colab": {}
      },
      "source": [
        "# utilizamos a função to_categorial do utils do keras para fazermos o one-hot-encoder da classe.\n",
        "y_train = df_train[\"label\"].values\n",
        "y_train = np_utils.to_categorical(y_train)"
      ],
      "execution_count": 0,
      "outputs": []
    },
    {
      "cell_type": "code",
      "metadata": {
        "id": "kBtZHRybXFdX",
        "colab_type": "code",
        "colab": {
          "base_uri": "https://localhost:8080/",
          "height": 417
        },
        "outputId": "2177fb2e-22de-4c5a-a026-41b9eee41731"
      },
      "source": [
        "#visualizando randomicamente algumas imagens\n",
        "for i in range(0, 6):\n",
        "    random_num = np.random.randint(0, len(x_train))\n",
        "    img = x_train[random_num]\n",
        "    plt.subplot(3,2,i+1)\n",
        "    plt.imshow(img.reshape(28, 28), cmap=plt.get_cmap('gray'))\n",
        "plt.subplots_adjust(top=1.4)\n",
        "plt.show()"
      ],
      "execution_count": 21,
      "outputs": [
        {
          "output_type": "display_data",
          "data": {
            "image/png": "[encoded data removed]",
            "text/plain": [
              "<Figure size 432x288 with 6 Axes>"
            ]
          },
          "metadata": {
            "tags": []
          }
        }
      ]
    },
    {
      "cell_type": "code",
      "metadata": {
        "id": "-l04Jx0BcyOx",
        "colab_type": "code",
        "colab": {}
      },
      "source": [
        "from keras.models import Sequential\n",
        "from keras.layers import Dense, Dropout, Flatten\n",
        "from keras.layers import Conv2D, MaxPooling2D\n",
        "from keras.optimizers import Adam\n",
        "from keras.preprocessing.image import ImageDataGenerator\n",
        "from keras.callbacks import ReduceLROnPlateau"
      ],
      "execution_count": 0,
      "outputs": []
    },
    {
      "cell_type": "code",
      "metadata": {
        "id": "Y8sxzDHfcyvE",
        "colab_type": "code",
        "colab": {}
      },
      "source": [
        "## dado que o range de valores possível pra um pixél vai de 0-255 \n",
        "## escalonamos os valores entre 0-1\n",
        "## esse processo torna nosso modelo menos variante a pequenas alterações.\n",
        "x_train = x_train / 255\n",
        "x_test = x_test / 255"
      ],
      "execution_count": 0,
      "outputs": []
    },
    {
      "cell_type": "code",
      "metadata": {
        "id": "rAC71KqQc1Rn",
        "colab_type": "code",
        "colab": {}
      },
      "source": [
        "from tensorflow.keras import layers, models\n",
        "model = models.Sequential()"
      ],
      "execution_count": 0,
      "outputs": []
    },
    {
      "cell_type": "code",
      "metadata": {
        "id": "xWgXzFJ1gXcQ",
        "colab_type": "code",
        "colab": {
          "base_uri": "https://localhost:8080/",
          "height": 54
        },
        "outputId": "4d858c89-fa69-4e56-b6d2-e18e4c479a5d"
      },
      "source": [
        "model.add(layers.Conv2D(32, (5,5), activation='relu', padding='same', input_shape=(28, 28,1)))\n",
        "model.add(layers.Conv2D(64, (5,5), activation='relu', padding='same'))\n",
        "model.add(layers.MaxPooling2D(pool_size=(2,2)))\n",
        "model.add(layers.Dropout(0.25))\n",
        "model.add(layers.Flatten())\n",
        "model.add(layers.Dense(128, activation='relu'))\n",
        "model.add(layers.Dropout(0.5))\n",
        "model.add(layers.Dense(10, activation='softmax'))\n"
      ],
      "execution_count": 33,
      "outputs": [
        {
          "output_type": "execute_result",
          "data": {
            "text/plain": [
              "\"\\ncnn = models.Sequential()\\n\\ncnn.add(layers.Conv2D(32, (3,3), activation = 'relu', input_shape=(28,28,1)))\\ncnn.add(layers.MaxPooling2D(2,2))\\n\\ncnn.add(layers.Conv2D(64, (3,3), activation = 'relu'))\\ncnn.add(layers.MaxPooling2D(2,2))\\n\\ncnn.add(layers.Conv2D(64, (3,3), activation = 'relu'))\\n\\ncnn.add(layers.Flatten())\\n\\ncnn.add(layers.Dense(64, activation = 'relu'))\\n\\ncnn.add(layers.Dense(10, activation = 'softmax'))\\n\\ncnn.summary()\""
            ]
          },
          "metadata": {
            "tags": []
          },
          "execution_count": 33
        }
      ]
    },
    {
      "cell_type": "code",
      "metadata": {
        "id": "xwiVhgcGc4A6",
        "colab_type": "code",
        "colab": {
          "base_uri": "https://localhost:8080/",
          "height": 437
        },
        "outputId": "545abf8c-181f-48fa-ee8a-758d7ec8b0cc"
      },
      "source": [
        "optimizer = 'Adam'\n",
        "model.compile(loss='categorical_crossentropy', optimizer=optimizer, metrics=['accuracy'])\n",
        "print(model.summary())"
      ],
      "execution_count": 52,
      "outputs": [
        {
          "output_type": "stream",
          "text": [
            "Model: \"sequential_2\"\n",
            "_________________________________________________________________\n",
            "Layer (type)                 Output Shape              Param #   \n",
            "=================================================================\n",
            "conv2d (Conv2D)              (None, 28, 28, 32)        832       \n",
            "_________________________________________________________________\n",
            "conv2d_1 (Conv2D)            (None, 28, 28, 64)        51264     \n",
            "_________________________________________________________________\n",
            "max_pooling2d (MaxPooling2D) (None, 14, 14, 64)        0         \n",
            "_________________________________________________________________\n",
            "dropout (Dropout)            (None, 14, 14, 64)        0         \n",
            "_________________________________________________________________\n",
            "flatten (Flatten)            (None, 12544)             0         \n",
            "_________________________________________________________________\n",
            "dense (Dense)                (None, 128)               1605760   \n",
            "_________________________________________________________________\n",
            "dropout_1 (Dropout)          (None, 128)               0         \n",
            "_________________________________________________________________\n",
            "dense_1 (Dense)              (None, 10)                1290      \n",
            "=================================================================\n",
            "Total params: 1,659,146\n",
            "Trainable params: 1,659,146\n",
            "Non-trainable params: 0\n",
            "_________________________________________________________________\n",
            "None\n"
          ],
          "name": "stdout"
        }
      ]
    },
    {
      "cell_type": "code",
      "metadata": {
        "id": "2ZVXUBqliVtD",
        "colab_type": "code",
        "colab": {}
      },
      "source": [
        "# reduz o parâmetro de learning rate se não houver \n",
        "# melhoras em determinado número de epocas\n",
        "# útil para encontrar o mínimo global.\n",
        "learning_rate_reduction = ReduceLROnPlateau(monitor='val_acc', \n",
        "                                            patience=3, \n",
        "                                            verbose=1, \n",
        "                                            factor=0.5, \n",
        "                                            min_lr=0.00001)\n",
        "\n",
        "batch_size = 32\n",
        "epochs = 10"
      ],
      "execution_count": 0,
      "outputs": []
    },
    {
      "cell_type": "code",
      "metadata": {
        "id": "pLCqzqGGiWx2",
        "colab_type": "code",
        "colab": {
          "base_uri": "https://localhost:8080/",
          "height": 353
        },
        "outputId": "db452cf3-ddef-455a-9da9-7a7e79e5cacf"
      },
      "source": [
        "epochs = 10\n",
        "history = model.fit(x_train, y_train, batch_size = 512, epochs = epochs)"
      ],
      "execution_count": 55,
      "outputs": [
        {
          "output_type": "stream",
          "text": [
            "Epoch 1/10\n",
            "83/83 [==============================] - 265s 3s/step - loss: 0.0835 - accuracy: 0.9753\n",
            "Epoch 2/10\n",
            "83/83 [==============================] - 265s 3s/step - loss: 0.0745 - accuracy: 0.9772\n",
            "Epoch 3/10\n",
            "83/83 [==============================] - 265s 3s/step - loss: 0.0540 - accuracy: 0.9836\n",
            "Epoch 4/10\n",
            "83/83 [==============================] - 265s 3s/step - loss: 0.0510 - accuracy: 0.9839\n",
            "Epoch 5/10\n",
            "83/83 [==============================] - 265s 3s/step - loss: 0.0412 - accuracy: 0.9872\n",
            "Epoch 6/10\n",
            "83/83 [==============================] - 265s 3s/step - loss: 0.0371 - accuracy: 0.9885\n",
            "Epoch 7/10\n",
            "83/83 [==============================] - 265s 3s/step - loss: 0.0323 - accuracy: 0.9900\n",
            "Epoch 8/10\n",
            "83/83 [==============================] - 265s 3s/step - loss: 0.0316 - accuracy: 0.9904\n",
            "Epoch 9/10\n",
            "83/83 [==============================] - 265s 3s/step - loss: 0.0282 - accuracy: 0.9912\n",
            "Epoch 10/10\n",
            "83/83 [==============================] - 265s 3s/step - loss: 0.0294 - accuracy: 0.9905\n"
          ],
          "name": "stdout"
        }
      ]
    },
    {
      "cell_type": "code",
      "metadata": {
        "id": "9gk5srbxiaYG",
        "colab_type": "code",
        "colab": {}
      },
      "source": [
        "history_dict = history.history"
      ],
      "execution_count": 0,
      "outputs": []
    },
    {
      "cell_type": "code",
      "metadata": {
        "id": "Fki12Gu7yl1f",
        "colab_type": "code",
        "colab": {
          "base_uri": "https://localhost:8080/",
          "height": 34
        },
        "outputId": "3cfbea76-ff60-4bd3-e185-0d3077a2fff6"
      },
      "source": [
        "history_dict.keys()"
      ],
      "execution_count": 61,
      "outputs": [
        {
          "output_type": "execute_result",
          "data": {
            "text/plain": [
              "dict_keys(['loss', 'accuracy'])"
            ]
          },
          "metadata": {
            "tags": []
          },
          "execution_count": 61
        }
      ]
    },
    {
      "cell_type": "code",
      "metadata": {
        "id": "iBjOP15Zyn8A",
        "colab_type": "code",
        "colab": {}
      },
      "source": [
        ""
      ],
      "execution_count": 0,
      "outputs": []
    },
    {
      "cell_type": "code",
      "metadata": {
        "id": "gLd5mZJHyTbm",
        "colab_type": "code",
        "colab": {
          "base_uri": "https://localhost:8080/",
          "height": 195
        },
        "outputId": "916c44b8-6597-4f81-baf2-5fad6ccc39f5"
      },
      "source": [
        "acc = history_dict['acc']\n",
        "val_acc = history_dict['val_acc']\n",
        "range_epochs = range(1, len(acc) + 1)"
      ],
      "execution_count": 58,
      "outputs": [
        {
          "output_type": "error",
          "ename": "KeyError",
          "evalue": "ignored",
          "traceback": [
            "\u001b[0;31m---------------------------------------------------------------------------\u001b[0m",
            "\u001b[0;31mKeyError\u001b[0m                                  Traceback (most recent call last)",
            "\u001b[0;32m<ipython-input-58-0fce93b8cc6e>\u001b[0m in \u001b[0;36m<module>\u001b[0;34m()\u001b[0m\n\u001b[0;32m----> 1\u001b[0;31m \u001b[0macc\u001b[0m \u001b[0;34m=\u001b[0m \u001b[0mhistory_dict\u001b[0m\u001b[0;34m[\u001b[0m\u001b[0;34m'acc'\u001b[0m\u001b[0;34m]\u001b[0m\u001b[0;34m\u001b[0m\u001b[0;34m\u001b[0m\u001b[0m\n\u001b[0m\u001b[1;32m      2\u001b[0m \u001b[0mval_acc\u001b[0m \u001b[0;34m=\u001b[0m \u001b[0mhistory_dict\u001b[0m\u001b[0;34m[\u001b[0m\u001b[0;34m'val_acc'\u001b[0m\u001b[0;34m]\u001b[0m\u001b[0;34m\u001b[0m\u001b[0;34m\u001b[0m\u001b[0m\n\u001b[1;32m      3\u001b[0m \u001b[0mrange_epochs\u001b[0m \u001b[0;34m=\u001b[0m \u001b[0mrange\u001b[0m\u001b[0;34m(\u001b[0m\u001b[0;36m1\u001b[0m\u001b[0;34m,\u001b[0m \u001b[0mlen\u001b[0m\u001b[0;34m(\u001b[0m\u001b[0macc\u001b[0m\u001b[0;34m)\u001b[0m \u001b[0;34m+\u001b[0m \u001b[0;36m1\u001b[0m\u001b[0;34m)\u001b[0m\u001b[0;34m\u001b[0m\u001b[0;34m\u001b[0m\u001b[0m\n",
            "\u001b[0;31mKeyError\u001b[0m: 'acc'"
          ]
        }
      ]
    },
    {
      "cell_type": "code",
      "metadata": {
        "id": "xFZDZezQnsZ0",
        "colab_type": "code",
        "colab": {}
      },
      "source": [
        "plt.style.use('default')\n",
        "accuracy_val = plt.plot(range_epochs, val_acc, label='Acurácia no conjunto de validação')\n",
        "accuracy_train = plt.plot(range_epochs, acc, label='Acurácia no conjunto de treino', color=\"r\")\n",
        "plt.setp(accuracy_val, linewidth=2.0)\n",
        "plt.setp(accuracy_train, linewidth=2.0)\n",
        "plt.xlabel('Épocas') \n",
        "plt.ylabel('Acurácia')\n",
        "plt.legend(loc=\"lower right\")\n",
        "plt.show()"
      ],
      "execution_count": 0,
      "outputs": []
    },
    {
      "cell_type": "code",
      "metadata": {
        "id": "RYP2bAYlnvq_",
        "colab_type": "code",
        "colab": {}
      },
      "source": [
        "predictions = model.predict_classes(x_test)"
      ],
      "execution_count": 0,
      "outputs": []
    },
    {
      "cell_type": "code",
      "metadata": {
        "id": "qRHj5FgWn0QU",
        "colab_type": "code",
        "colab": {}
      },
      "source": [
        "plt.figure(figsize=(7,14))\n",
        "for i in range(0, 8):\n",
        "    random_num = np.random.randint(0, len(x_test))\n",
        "    img = x_test[random_num]\n",
        "    plt.subplot(6,4,i+1)\n",
        "    plt.margins(x = 20, y = 20)\n",
        "    plt.title('Predição: ' + str(predictions[random_num]))\n",
        "    plt.imshow(img.reshape(28, 28), cmap=plt.get_cmap('gray'))\n",
        "plt.show()"
      ],
      "execution_count": 0,
      "outputs": []
    },
    {
      "cell_type": "code",
      "metadata": {
        "id": "oYu8sigdn27n",
        "colab_type": "code",
        "colab": {}
      },
      "source": [
        "submission = pd.DataFrame({'ImageID' : pd.Series(range(1,28001)), 'Label' : predictions})\n",
        "submission.to_csv(\"submission.csv\",index=False)"
      ],
      "execution_count": 0,
      "outputs": []
    }
  ]
}